{
 "cells": [
  {
   "cell_type": "markdown",
   "id": "9b18c392",
   "metadata": {},
   "source": [
    "# Engels Steenfabriek - Uncertainty Analysis"
   ]
  },
  {
   "cell_type": "markdown",
   "id": "8bd47cd5",
   "metadata": {},
   "source": [
    "## Imports"
   ]
  },
  {
   "cell_type": "code",
   "execution_count": 52,
   "id": "06d9d50c-3597-4f25-9714-35d12491ac77",
   "metadata": {
    "editable": true,
    "slideshow": {
     "slide_type": ""
    },
    "tags": []
   },
   "outputs": [
    {
     "data": {
      "text/plain": [
       "<module 'utils' from 'c:\\\\Projects\\\\Revenue Scenarios\\\\BESS_Revenue_Scenarios\\\\Deep_Unc_Analysis\\\\utils.py'>"
      ]
     },
     "execution_count": 52,
     "metadata": {},
     "output_type": "execute_result"
    }
   ],
   "source": [
    "# IMPORTS\n",
    "import pandas as pd\n",
    "import numpy as np\n",
    "import seaborn as sns\n",
    "import matplotlib.pyplot as plt\n",
    "\n",
    "from ema_workbench import RealParameter, CategoricalParameter, TimeSeriesOutcome, ScalarOutcome\n",
    "from ema_workbench.analysis import prim, pairs_plotting\n",
    "from ema_workbench.analysis.plotting import Density, multiple_densities\n",
    "from ema_workbench.analysis.plotting_util import COLOR_LIST\n",
    "\n",
    "# Set custom color list\n",
    "COLOR_LIST = [\n",
    "    \"#1c33ff\", \"#ff1930\", \"#ffb01c\", \"#7519ff\", \"#ff6f1c\", \"#a3ff19\", \"#19ffe8\",\n",
    "    \"#e819ff\", \"#a5a7dd\", \"#565a8c\", \"#930700\", \"#2ade72\"\n",
    "]\n",
    "\n",
    "import importlib\n",
    "import utils\n",
    "\n",
    "importlib.reload(utils)"
   ]
  },
  {
   "cell_type": "markdown",
   "id": "01bd34a6-9b0e-4bf7-a812-c0e3eefc798f",
   "metadata": {},
   "source": [
    "## Load Results if available (Alternative to Run Model)"
   ]
  },
  {
   "cell_type": "code",
   "execution_count": 24,
   "id": "c51de8f0-180b-43e5-90c0-cfcf3109ee13",
   "metadata": {},
   "outputs": [
    {
     "name": "stderr",
     "output_type": "stream",
     "text": [
      "[MainProcess/INFO] results loaded successfully from c:\\Projects\\Revenue Scenarios\\Deep_Unc_Analysis\\model\\outputs\\experiments.tar.gz\n"
     ]
    }
   ],
   "source": [
    "results = utils.load_results_from_file(\"./model/outputs/experiments.tar.gz\")\n",
    "case_list = [\n",
    "    \"Case 1\"\n",
    "]\n",
    "\n",
    "num_experiments = 50\n",
    "num_policies = len(case_list)\n",
    "x, o = results"
   ]
  },
  {
   "cell_type": "markdown",
   "id": "9d730104-e005-4622-9bfd-d4f54f24680f",
   "metadata": {},
   "source": [
    "## Run model"
   ]
  },
  {
   "cell_type": "code",
   "execution_count": 47,
   "id": "24e79b9f-98d7-4982-b838-32eb463db251",
   "metadata": {
    "scrolled": true
   },
   "outputs": [
    {
     "name": "stderr",
     "output_type": "stream",
     "text": [
      "[MainProcess/INFO] performing 50 scenarios * 1 policies * 1 model(s) = 50 experiments\n"
     ]
    },
    {
     "name": "stdout",
     "output_type": "stream",
     "text": [
      "Number of policies: None\n"
     ]
    },
    {
     "name": "stderr",
     "output_type": "stream",
     "text": [
      "[MainProcess/INFO] performing experiments sequentially\n",
      "100%|██████████████████████████████████████████| 50/50 [00:59<00:00,  1.19s/it]\n",
      "[MainProcess/INFO] experiments finished\n",
      "c:\\Users\\ArnauDuatisTarradell\\AppData\\Local\\Programs\\Python\\Python313\\Lib\\site-packages\\ema_workbench\\em_framework\\outcomes.py:541: UserWarning:\n",
      "\n",
      "still to be tested!!\n",
      "\n",
      "[MainProcess/INFO] results saved successfully to c:\\Projects\\Revenue Scenarios\\BESS_Revenue_Scenarios\\Deep_Unc_Analysis\\model\\outputs\\experiments.tar.gz\n"
     ]
    }
   ],
   "source": [
    "model_file = \"./250127 - BESS Financial Model Version 1.13 (revenue scenarios).xlsx\"\n",
    "\n",
    "case_list = [\n",
    "    \"Case 1\"\n",
    "]\n",
    "\n",
    "num_policies = len(case_list) if len(case_list) > 1 else None\n",
    "\n",
    "print(f\"Number of policies: {num_policies}\")\n",
    "\n",
    "# generate a list from 1 to 345\n",
    "revenue_scenario_list = [str(i) for i in range(1, 270)]\n",
    "num_experiments = 50\n",
    "num_policies = len(case_list)\n",
    "model = utils.instantiate_model(model_file)\n",
    "\n",
    "model.uncertainties = [\n",
    "    # Cost Parameters\n",
    "    # RealParameter(\"Contingency_CAPEX\", -0.05, 0.1),\n",
    "    # RealParameter(\"Contingency_OPEX\", -0.05, 0.2),\n",
    "\n",
    "    # Contract Type\n",
    "    # RealParameter(\"MRI_Eneco\", 162000, 400000),\n",
    "    # RealParameter(\"Merchant_Revenue\", 150000, 250000),\n",
    "    # RealParameter(\"EnecoMRI\", 150000, 350000)\n",
    "\n",
    "    # Electrolyser Parameters\n",
    "    # CategoricalParameter(\"sde_price_electrolyser\", (\"0.1136\", \"0.1308\", \"0.1479\", \"0.1651\", \"0.1880\")),\n",
    "    # RealParameter(\"degradation_factor\", 0.001, 0.002),\n",
    "    # CategoricalParameter(\"ppa_or_market_price\", (\"PPA as %% of EPEX-Spot\", \"Market Pricing\")),\n",
    "\n",
    "    # Revenue Scenarios\n",
    "    # We include 1 as the baseline scenario with linear revenue growth\n",
    "    # CategoricalParameter(\"forecast_scenario\", tuple(revenue_scenario_list)),\n",
    "    RealParameter(\"forecast_scenario\", 1, 271)\n",
    "    # Add Grid Costs as a categorical parameter\n",
    "]\n",
    "\n",
    "if num_policies > 1:\n",
    "    model.levers = [\n",
    "        CategoricalParameter(\"Case\", (case_list))\n",
    "    ]\n",
    "else:\n",
    "    model.levers = []\n",
    "\n",
    "model.outcomes = [\n",
    "    # Standard Metrics\n",
    "    TimeSeriesOutcome(\"TIME\"),\n",
    "    ScalarOutcome(\"MODELCHECK\"),\n",
    "    \n",
    "    # Debt Metrics\n",
    "    #TimeSeriesOutcome(\"DSCR_Tenor\"),\n",
    "    #ScalarOutcome(\"DSCR_First5Years_Min\"),\n",
    "    #ScalarOutcome(\"ADSCR_First5Years\"),\n",
    "    #ScalarOutcome(\"ADSCR_Tenor\"),\n",
    "    #ScalarOutcome(\"LLCR\"),\n",
    "    #ScalarOutcome(\"LLCR_Min\"),\n",
    "\n",
    "    # IRR Metrics\n",
    "    TimeSeriesOutcome(\"Rolling_Equity_IRR\"),\n",
    "    TimeSeriesOutcome(\"Rolling_ProjectIRR_AfterTax\"),\n",
    "    TimeSeriesOutcome(\"Rolling_ProjectIRR_BeforeTax\"),\n",
    "    TimeSeriesOutcome(\"Forecast\"),\n",
    "    ScalarOutcome(\"Project_IRR_AfterTax\"),\n",
    "    ScalarOutcome(\"Project_IRR_BeforeTax\"),\n",
    "    ScalarOutcome(\"Equity_IRR\"),\n",
    "    ScalarOutcome(\"Forecast_Hyperparameter\"),\n",
    "    # NPV Metrics\n",
    "    ScalarOutcome(\"Equity_NPV\"),\n",
    "\n",
    "    # Operational Metrics\n",
    "    TimeSeriesOutcome(\"EBITDA\"),\n",
    "\n",
    "    # Hydrogen Electrolyser Metrics\n",
    "    # ScalarOutcome(\"LCOH\")\n",
    "]\n",
    "\n",
    "x, o = utils.run_experiments(model, num_experiments, num_policies = num_policies)\n",
    "model.cleanup()"
   ]
  },
  {
   "cell_type": "markdown",
   "id": "2c02b040-59b5-4e96-aacf-3f5c8c69555e",
   "metadata": {},
   "source": [
    "## Time Series Outcomes"
   ]
  },
  {
   "cell_type": "markdown",
   "id": "8c73f087",
   "metadata": {},
   "source": [
    "### Rolling Equity Graphs and Animation"
   ]
  },
  {
   "cell_type": "code",
   "execution_count": 53,
   "id": "90182407-bddd-47ce-bf71-e8c92d7ac433",
   "metadata": {},
   "outputs": [
    {
     "data": {
      "image/png": "[encoded data removed]",
      "text/plain": [
       "<Figure size 1400x700 with 2 Axes>"
      ]
     },
     "execution_count": 53,
     "metadata": {},
     "output_type": "execute_result"
    }
   ],
   "source": [
    "utils.create_line_graph(x, o, case_list, outcome_name = \"Rolling_Equity_IRR\")\n",
    "# utils.create_animation(o)"
   ]
  },
  {
   "cell_type": "markdown",
   "id": "764996f4",
   "metadata": {},
   "source": [
    "### Unsure"
   ]
  },
  {
   "cell_type": "code",
   "execution_count": null,
   "id": "fa12553a-6857-4bed-8c5d-66acdcb64e63",
   "metadata": {
    "collapsed": true,
    "jupyter": {
     "outputs_hidden": true,
     "source_hidden": true
    }
   },
   "outputs": [],
   "source": [
    "fig, axes = multiple_densities(x, o, legend=True, outcomes_to_show='EBITDA', points_in_time=[24,36,48,60,72], density=Density.KDE, fill=True)\n",
    "\n",
    "\n",
    "# Set style to seaborn whitegrid for a clean look\n",
    "sns.set_style('whitegrid')\n",
    "\n",
    "# Update line properties\n",
    "for axis in axes:\n",
    "    for line in axis.get_lines():\n",
    "        line.set_alpha(0.9)  # Slightly less transparent than before\n",
    "        line.set_linewidth(1)  # Increase line width for better visibility\n",
    "    axis.margins(y=0)\n",
    "\n",
    "# Clean up spines and grid lines\n",
    "for axis in axes:\n",
    "    axis.spines['top'].set_visible(False)\n",
    "    axis.spines['right'].set_visible(False)\n",
    "    axis.spines['left'].set_linewidth(0.5)\n",
    "    axis.spines['bottom'].set_linewidth(0.5)\n",
    "    axis.xaxis.set_tick_params(width=0.5)\n",
    "    axis.yaxis.set_tick_params(width=0.5)\n",
    "    axis.grid(True, which='both', linestyle='--', linewidth=0.5, alpha=0.7)  # Light dashed grid lines\n",
    "\n",
    "# Remove top and right spines, clean the look\n",
    "sns.despine()\n",
    "\n",
    "fig = plt.gcf()\n",
    "fig.set_size_inches(20,10)\n",
    "ax = fig.get_axes()"
   ]
  },
  {
   "cell_type": "markdown",
   "id": "9b076115-329d-4176-99b2-0170621e57c0",
   "metadata": {},
   "source": [
    "## Scalar Outcomes"
   ]
  },
  {
   "cell_type": "markdown",
   "id": "49c0db85",
   "metadata": {},
   "source": [
    "### Electrolyser Model Validation\n",
    "- Some plots for sanity check of electrolyser model and LCOH"
   ]
  },
  {
   "cell_type": "code",
   "execution_count": null,
   "id": "0dc816f9",
   "metadata": {},
   "outputs": [],
   "source": [
    "# Plot LCOH against Degradation\n",
    "lcoh = o[\"LCOH\"]\n",
    "degradation = x['Case']\n",
    "\n",
    "# Create scatter plot\n",
    "plt.figure(figsize=(20, 6))\n",
    "plt.scatter(degradation, lcoh, alpha=0.6, edgecolors='w', linewidth=0.5)\n",
    "\n",
    "# Set plot title and labels\n",
    "plt.title('Scatter Plot of LCOH vs Degradation of Electrolyser', fontsize=16)\n",
    "plt.xlabel('Degradation of Electrolyser  (% / MWh H2)', fontsize=14)\n",
    "plt.ylabel('LCOH (€ / kg H2)', fontsize=14)\n",
    "\n",
    "# Show plot\n",
    "plt.grid(True)\n",
    "plt.show()"
   ]
  },
  {
   "cell_type": "markdown",
   "id": "10e95956-0c88-4253-8431-8d9da4d8b3cd",
   "metadata": {},
   "source": [
    "### KDE plot"
   ]
  },
  {
   "cell_type": "code",
   "execution_count": 49,
   "id": "eb1c2126-531d-448f-978a-46027a13d399",
   "metadata": {},
   "outputs": [
    {
     "data": {
      "application/vnd.plotly.v1+json": {
       "config": {
        "plotlyServerURL": "https://plot.ly"
       },
       "data": [
        {
         "legendgroup": "Case 1",
         "marker": {
          "color": "rgb(31, 119, 180)"
         },
         "mode": "lines",
         "name": "Case 1",
         "showlegend": true,
         "type": "scatter",
         "x": [
          -400561.5776202007,
          -399568.94162894634,
          -398576.305637692,
          -397583.66964643763,
          -396591.0336551833,
          -395598.3976639289,
          -394605.76167267456,
          -393613.12568142015,
          -392620.4896901658,
          -391627.85369891144,
          -390635.2177076571,
          -389642.5817164027,
          -388649.94572514837,
          -387657.309733894,
          -386664.67374263966,
          -385672.0377513853,
          -384679.40176013095,
          -383686.7657688766,
          -382694.12977762223,
          -381701.4937863679,
          -380708.8577951135,
          -379716.2218038591,
          -378723.58581260475,
          -377730.9498213504,
          -376738.31383009604,
          -375745.6778388417,
          -374753.04184758733,
          -373760.405856333,
          -372767.7698650786,
          -371775.13387382426,
          -370782.4978825699,
          -369789.86189131555,
          -368797.2259000612,
          -367804.58990880684,
          -366811.9539175525,
          -365819.3179262981,
          -364826.6819350438,
          -363834.04594378936,
          -362841.409952535,
          -361848.77396128065,
          -360856.1379700263,
          -359863.50197877194,
          -358870.8659875176,
          -357878.2299962632,
          -356885.59400500887,
          -355892.9580137545,
          -354900.32202250016,
          -353907.6860312458,
          -352915.0500399914,
          -351922.41404873703,
          -350929.7780574827,
          -349937.1420662283,
          -348944.50607497396,
          -347951.8700837196,
          -346959.23409246525,
          -345966.5981012109,
          -344973.96210995654,
          -343981.3261187022,
          -342988.69012744783,
          -341996.0541361935,
          -341003.4181449391,
          -340010.78215368476,
          -339018.1461624304,
          -338025.51017117605,
          -337032.87417992164,
          -336040.2381886673,
          -335047.6021974129,
          -334054.96620615857,
          -333062.3302149042,
          -332069.69422364986,
          -331077.0582323955,
          -330084.42224114115,
          -329091.7862498868,
          -328099.15025863243,
          -327106.5142673781,
          -326113.8782761237,
          -325121.2422848693,
          -324128.60629361495,
          -323135.9703023606,
          -322143.33431110624,
          -321150.6983198519,
          -320158.06232859753,
          -319165.4263373432,
          -318172.7903460888,
          -317180.15435483446,
          -316187.5183635801,
          -315194.88237232575,
          -314202.2463810714,
          -313209.61038981704,
          -312216.9743985627,
          -311224.3384073083,
          -310231.702416054,
          -309239.06642479956,
          -308246.4304335452,
          -307253.79444229085,
          -306261.1584510365,
          -305268.52245978214,
          -304275.8864685278,
          -303283.2504772734,
          -302290.61448601907,
          -301297.9784947647,
          -300305.34250351036,
          -299312.706512256,
          -298320.07052100165,
          -297327.43452974723,
          -296334.7985384929,
          -295342.1625472385,
          -294349.52655598416,
          -293356.8905647298,
          -292364.25457347545,
          -291371.6185822211,
          -290378.98259096674,
          -289386.3465997124,
          -288393.71060845803,
          -287401.0746172037,
          -286408.4386259493,
          -285415.80263469496,
          -284423.1666434406,
          -283430.53065218625,
          -282437.89466093184,
          -281445.2586696775,
          -280452.6226784231,
          -279459.98668716877,
          -278467.3506959144,
          -277474.71470466006,
          -276482.0787134057,
          -275489.44272215135,
          -274496.806730897,
          -273504.17073964264,
          -272511.5347483883,
          -271518.8987571339,
          -270526.2627658795,
          -269533.62677462515,
          -268540.9907833708,
          -267548.35479211644,
          -266555.7188008621,
          -265563.08280960773,
          -264570.4468183534,
          -263577.810827099,
          -262585.17483584466,
          -261592.5388445903,
          -260599.90285333595,
          -259607.2668620816,
          -258614.63087082724,
          -257621.99487957289,
          -256629.3588883185,
          -255636.72289706414,
          -254644.0869058098,
          -253651.45091455543,
          -252658.81492330108,
          -251666.17893204672,
          -250673.54294079237,
          -249680.90694953798,
          -248688.27095828363,
          -247695.63496702927,
          -246702.9989757749,
          -245710.36298452056,
          -244717.7269932662,
          -243725.09100201185,
          -242732.4550107575,
          -241739.8190195031,
          -240747.18302824872,
          -239754.54703699437,
          -238761.91104574,
          -237769.27505448565,
          -236776.6390632313,
          -235784.00307197694,
          -234791.3670807226,
          -233798.7310894682,
          -232806.09509821385,
          -231813.4591069595,
          -230820.82311570513,
          -229828.18712445078,
          -228835.55113319642,
          -227842.91514194207,
          -226850.2791506877,
          -225857.64315943333,
          -224865.00716817897,
          -223872.37117692461,
          -222879.73518567026,
          -221887.0991944159,
          -220894.46320316155,
          -219901.8272119072,
          -218909.19122065284,
          -217916.55522939845,
          -216923.9192381441,
          -215931.28324688974,
          -214938.64725563538,
          -213946.01126438103,
          -212953.37527312667,
          -211960.73928187232,
          -210968.10329061793,
          -209975.46729936358,
          -208982.83130810922,
          -207990.19531685486,
          -206997.5593256005,
          -206004.92333434615,
          -205012.2873430918,
          -204019.65135183744,
          -203027.01536058306,
          -202034.3793693287,
          -201041.74337807434,
          -200049.10738682,
          -199056.47139556563,
          -198063.83540431128,
          -197071.19941305692,
          -196078.56342180257,
          -195085.92743054818,
          -194093.29143929383,
          -193100.65544803947,
          -192108.0194567851,
          -191115.38346553076,
          -190122.7474742764,
          -189130.11148302205,
          -188137.4754917677,
          -187144.8395005133,
          -186152.20350925895,
          -185159.5675180046,
          -184166.93152675024,
          -183174.29553549588,
          -182181.65954424153,
          -181189.02355298717,
          -180196.38756173282,
          -179203.75157047843,
          -178211.11557922405,
          -177218.4795879697,
          -176225.84359671533,
          -175233.20760546098,
          -174240.57161420662,
          -173247.93562295227,
          -172255.29963169788,
          -171262.66364044353,
          -170270.02764918917,
          -169277.39165793482,
          -168284.75566668046,
          -167292.1196754261,
          -166299.48368417175,
          -165306.8476929174,
          -164314.211701663,
          -163321.57571040865,
          -162328.9397191543,
          -161336.30372789994,
          -160343.66773664558,
          -159351.03174539123,
          -158358.39575413687,
          -157365.75976288252,
          -156373.12377162813,
          -155380.48778037378,
          -154387.85178911942,
          -153395.21579786506,
          -152402.5798066107,
          -151409.94381535635,
          -150417.307824102,
          -149424.67183284764,
          -148432.03584159326,
          -147439.3998503389,
          -146446.76385908455,
          -145454.1278678302,
          -144461.49187657583,
          -143468.85588532148,
          -142476.21989406712,
          -141483.58390281274,
          -140490.94791155838,
          -139498.31192030403,
          -138505.67592904967,
          -137513.0399377953,
          -136520.40394654096,
          -135527.7679552866,
          -134535.13196403225,
          -133542.4959727779,
          -132549.85998152354,
          -131557.22399026912,
          -130564.58799901482,
          -129571.95200776041,
          -128579.31601650605,
          -127586.6800252517,
          -126594.04403399734,
          -125601.40804274299,
          -124608.77205148863,
          -123616.13606023428,
          -122623.50006897992,
          -121630.8640777255,
          -120638.22808647121,
          -119645.5920952168,
          -118652.9561039625,
          -117660.32011270808,
          -116667.68412145379,
          -115675.04813019937,
          -114682.41213894507,
          -113689.77614769066,
          -112697.1401564363,
          -111704.50416518195,
          -110711.86817392759,
          -109719.23218267324,
          -108726.59619141888,
          -107733.96020016453,
          -106741.32420891017,
          -105748.68821765576,
          -104756.05222640146,
          -103763.41623514704,
          -102770.78024389275,
          -101778.14425263833,
          -100785.50826138403,
          -99792.87227012962,
          -98800.23627887527,
          -97807.60028762091,
          -96814.96429636655,
          -95822.3283051122,
          -94829.69231385784,
          -93837.05632260349,
          -92844.42033134913,
          -91851.78434009477,
          -90859.14834884042,
          -89866.512357586,
          -88873.87636633171,
          -87881.2403750773,
          -86888.604383823,
          -85895.96839256858,
          -84903.33240131428,
          -83910.69641005987,
          -82918.06041880551,
          -81925.42442755116,
          -80932.78843629675,
          -79940.15244504245,
          -78947.51645378803,
          -77954.88046253374,
          -76962.24447127932,
          -75969.60848002502,
          -74976.97248877061,
          -73984.33649751625,
          -72991.7005062619,
          -71999.06451500754,
          -71006.42852375319,
          -70013.79253249883,
          -69021.15654124448,
          -68028.52054999012,
          -67035.8845587357,
          -66043.24856748141,
          -65050.612576226995,
          -64057.9765849727,
          -63065.34059371828,
          -62072.704602463986,
          -61080.06861120957,
          -60087.432619955216,
          -59094.79662870086,
          -58102.160637446505,
          -57109.52464619215,
          -56116.88865493779,
          -55124.25266368344,
          -54131.61667242908,
          -53138.980681174726,
          -52146.34468992037,
          -51153.708698665956,
          -50161.07270741166,
          -49168.436716157245,
          -48175.80072490295,
          -47183.16473364853,
          -46190.528742394235,
          -45197.89275113982,
          -44205.256759885466,
          -43212.62076863111,
          -42219.984777376754,
          -41227.3487861224,
          -40234.71279486804,
          -39242.07680361369,
          -38249.44081235933,
          -37256.804821104975,
          -36264.16882985062,
          -35271.532838596206,
          -34278.89684734191,
          -33286.260856087494,
          -32293.624864833197,
          -31300.988873578783,
          -30308.352882324485,
          -29315.71689107007,
          -28323.080899815715,
          -27330.44490856136,
          -26337.808917307004,
          -25345.172926052648,
          -24352.536934798292,
          -23359.900943543937,
          -22367.26495228958,
          -21374.628961035167,
          -20381.99296978087,
          -19389.356978526455,
          -18396.7209872721,
          -17404.084996017744,
          -16411.449004763388,
          -15418.813013509032,
          -14426.177022254677,
          -13433.54103100032,
          -12440.905039745907,
          -11448.26904849161,
          -10455.633057237195,
          -9462.997065982898,
          -8470.361074728484,
          -7477.725083474186,
          -6485.089092219772,
          -5492.4531009654165,
          -4499.817109711061,
          -3507.181118456705,
          -2514.5451272023492,
          -1521.9091359479935,
          -529.2731446936377,
          463.362846560718,
          1455.998837815132,
          2448.6348290694295,
          3441.2708203238435,
          4433.906811578141,
          5426.542802832555,
          6419.178794086853,
          7411.8147853412665,
          8404.450776595564,
          9397.086767849978,
          10389.722759104334,
          11382.35875035869,
          12374.994741613045,
          13367.630732867401,
          14360.266724121757,
          15352.902715376113,
          16345.538706630468,
          17338.174697884882,
          18330.81068913918,
          19323.446680393594,
          20316.08267164789,
          21308.718662902305,
          22301.354654156603,
          23293.990645411017,
          24286.626636665314,
          25279.26262791973,
          26271.898619174084,
          27264.53461042844,
          28257.170601682796,
          29249.80659293715,
          30242.442584191507,
          31235.078575445863,
          32227.71456670022,
          33220.35055795463,
          34212.98654920893,
          35205.622540463344,
          36198.25853171764,
          37190.894522972056,
          38183.53051422635,
          39176.16650548077,
          40168.802496735065,
          41161.43848798948,
          42154.074479243835,
          43146.71047049819,
          44139.346461752604,
          45131.9824530069,
          46124.618444261316,
          47117.25443551561,
          48109.89042677003,
          49102.52641802438,
          50095.16240927874,
          51087.798400533095,
          52080.43439178745,
          53073.070383041806,
          54065.70637429616,
          55058.34236555052,
          56050.97835680493,
          57043.61434805923,
          58036.25033931364,
          59028.88633056794,
          60021.522321822355,
          61014.15831307665,
          62006.794304331066,
          62999.43029558536,
          63992.06628683978,
          64984.70227809413,
          65977.33826934849,
          66969.97426060284,
          67962.6102518572,
          68955.24624311156,
          69947.88223436591,
          70940.51822562027,
          71933.15421687468,
          72925.79020812898,
          73918.4261993834,
          74911.06219063769,
          75903.6981818921,
          76896.3341731464,
          77888.97016440082,
          78881.60615565511,
          79874.24214690953,
          80866.87813816388,
          81859.51412941824,
          82852.1501206726,
          83844.78611192695,
          84837.4221031813,
          85830.05809443566,
          86822.69408569002,
          87815.33007694443,
          88807.96606819873,
          89800.60205945314,
          90793.23805070744,
          91785.87404196186,
          92778.51003321615,
          93771.14602447057,
          94763.78201572492
         ],
         "xaxis": "x",
         "y": [
          2.4201991620409175e-7,
          2.4528025474820284e-7,
          2.485955888699223e-7,
          2.519706476859495e-7,
          2.5541034003234554e-7,
          2.589197488397767e-7,
          2.625041248920511e-7,
          2.661688799717685e-7,
          2.6991957939882555e-7,
          2.737619339694285e-7,
          2.7770179130519226e-7,
          2.8174512662381726e-7,
          2.858980329447334e-7,
          2.9016671074497097e-7,
          2.945574570823738e-7,
          2.9907665420508154e-7,
          3.03730757667978e-7,
          3.085262839785286e-7,
          3.1346979779610146e-7,
          3.1856789871048094e-7,
          3.238272076268178e-7,
          3.2925435278574733e-7,
          3.3485595544879814e-7,
          3.4063861528053585e-7,
          3.4660889546010636e-7,
          3.52773307556003e-7,
          3.5913829619891657e-7,
          3.657102235884801e-7,
          3.724953538705661e-7,
          3.7949983742255665e-7,
          3.8672969508462116e-7,
          3.941908023755923e-7,
          4.0188887373243584e-7,
          4.0982944681264676e-7,
          4.18017866899071e-7,
          4.264592714467748e-7,
          4.351585748115492e-7,
          4.4412045319949975e-7,
          4.5334932987693455e-7,
          4.628493606794208e-7,
          4.726244198584097e-7,
          4.826780863032659e-7,
          4.930136301758863e-7,
          5.036339999943095e-7,
          5.145418102008711e-7,
          5.257393292494905e-7,
          5.3722846824563e-7,
          5.49010770171342e-7,
          5.610873997266022e-7,
          5.734591338168247e-7,
          5.861263527151068e-7,
          5.990890319262919e-7,
          6.123467347784671e-7,
          6.258986057659326e-7,
          6.397433646660802e-7,
          6.538793014509563e-7,
          6.683042720125643e-7,
          6.830156947192512e-7,
          6.980105478187074e-7,
          7.132853677013258e-7,
          7.288362480358434e-7,
          7.446588397873034e-7,
          7.60748352125574e-7,
          7.770995542307184e-7,
          7.937067779997001e-7,
          8.105639216569868e-7,
          8.276644542697754e-7,
          8.450014211666671e-7,
          8.625674502568075e-7,
          8.803547592446457e-7,
          8.983551637336576e-7,
          9.165600862105999e-7,
          9.349605659000758e-7,
          9.535472694774714e-7,
          9.72310502626623e-7,
          9.912402224268643e-7,
          0.0000010103260505525327,
          0.0000010295572872663519,
          0.0000010489229261865965,
          0.000001068411669806399,
          0.0000010880119457421097,
          0.0000011077119236861549,
          0.0000011274995330385109,
          0.0000011473624811895026,
          0.0000011672882724253995,
          0.0000011872642274270041,
          0.0000012072775033302258,
          0.000001227315114316514,
          0.0000012473639526998682,
          0.0000012674108104761295,
          0.0000012874424012992344,
          0.0000013074453828481227,
          0.0000013274063795471343,
          0.0000013473120056017945,
          0.0000013671488883111447,
          0.0000013869036916169171,
          0.0000014065631398492153,
          0.000001426114041627629,
          0.0000014455433138761066,
          0.0000014648380059093441,
          0.0000014839853235478867,
          0.000001502972653218704,
          0.0000015217875859975386,
          0.0000015404179415489708,
          0.0000015588517919198172,
          0.0000015770774851412034,
          0.0000015950836685944503,
          0.0000016128593120957417,
          0.0000016303937306544556,
          0.0000016476766068599826,
          0.0000016646980128519107,
          0.0000016814484318284888,
          0.000001697918779048491,
          0.0000017141004222817823,
          0.000001729985201664164,
          0.0000017455654489125176,
          0.0000017608340058565743,
          0.0000017757842422442854,
          0.00000179041007277825,
          0.000001804705973341411,
          0.0000018186669963709369,
          0.0000018322887853400976,
          0.0000018455675883088281,
          0.0000018585002705047569,
          0.0000018710843258975546,
          0.0000018833178877306868,
          0.0000018951997379759775,
          0.0000019067293156777994,
          0.0000019179067241552016,
          0.000001928732737031923,
          0.0000019392088030659325,
          0.0000019493370497519846,
          0.000001959120285672533,
          0.0000019685620015744613,
          0.0000019776663701511254,
          0.0000019864382445114503,
          0.000001994883155320185,
          0.0000020030073065957455,
          0.000002010817570154699,
          0.000002018321478694427,
          0.000002025527217508299,
          0.0000020324436148303636,
          0.000002039080130809507,
          0.0000020454468451158715,
          0.000002051554443185394,
          0.0000020574142011113185,
          0.0000020630379691946977,
          0.000002068438154169051,
          0.000002073627700117514,
          0.0000020786200681041527,
          0.0000020834292145442395,
          0.000002088069568341724,
          0.00000209255600682531,
          0.0000020969038305179063,
          0.000002101128736777474,
          0.0000021052467923505582,
          0.000002109274404883026,
          0.000002113228293435703,
          0.0000021171254580557626,
          0.00000212098314845775,
          0.0000021248188318711533,
          0.0000021286501601143085,
          0.0000021324949359572724,
          0.00000213637107883892,
          0.000002140296590006197,
          0.0000021442895171458226,
          0.000002148367918581065,
          0.0000021525498271083607,
          0.000002156853213550525,
          0.0000021612959501051057,
          0.0000021658957735680407,
          0.0000021706702485142294,
          0.000002175636730517813,
          0.000002180812329496013,
          0.0000021862138732611163,
          0.0000021918578713657983,
          0.00000219776047932727,
          0.000002203937463315849,
          0.0000022104041653933835,
          0.000002217175469386535,
          0.000002224265767479316,
          0.0000022316889276082987,
          0.000002239458261742787,
          0.0000022475864951308045,
          0.000002256085736590043,
          0.0000022649674499210034,
          0.000002274242426517346,
          0.000002283920759246021,
          0.000002294011817667059,
          0.000002304524224659983,
          0.0000023154658345205903,
          0.000002326843712588523,
          0.000002338664116462354,
          0.000002350932478855172,
          0.0000023636533921395553,
          0.0000023768305946266613,
          0.0000023904669586197465,
          0.0000024045644802779,
          0.0000024191242713210694,
          0.0000024341465526026136,
          0.0000024496306495707066,
          0.0000024655749896348194,
          0.000002481977101448397,
          0.0000024988336161136444,
          0.000002516140270309059,
          0.000002533891911335078,
          0.0000025520825040679017,
          0.000002570705139806245,
          0.0000025897520469904963,
          0.0000026092146037685584,
          0.000002629083352377422,
          0.000002649348015304464,
          0.0000026699975131874882,
          0.0000026910199844075726,
          0.000002712402806324138,
          0.0000027341326180969914,
          0.0000027561953450357074,
          0.000002778576224412464,
          0.00000280125983267042,
          0.0000028242301139558884,
          0.000002847470409898977,
          0.000002870963490564043,
          0.0000028946915864881537,
          0.000002918636421723005,
          0.0000029427792477931166,
          0.000002967100878480939,
          0.0000029915817253474444,
          0.0000030162018338952183,
          0.0000030409409202795795,
          0.0000030657784084722996,
          0.0000030906934677816674,
          0.000003115665050632308,
          0.0000031406719305079084,
          0.0000031656927399603423,
          0.000003190706008589065,
          0.0000032156902008955442,
          0.000003240623753918528,
          0.0000032654851145574115,
          0.0000032902527764925987,
          0.000003314905316613771,
          0.0000033394214308691568,
          0.0000033637799694514257,
          0.0000033879599712385573,
          0.0000034119406974109796,
          0.000003435701664169528,
          0.0000034592226744820805,
          0.0000034824838487904075,
          0.0000035054656546124763,
          0.000003528148934979389,
          0.0000035505149356502352,
          0.0000035725453310522983,
          0.000003594222248898367,
          0.0000036155282934373477,
          0.000003636446567298788,
          0.000003656960691896531,
          0.000003677054826361225,
          0.000003696713684976122,
          0.0000037159225530950954,
          0.000003734667301526534,
          0.0000037529343993712876,
          0.000003770710925307432,
          0.000003787984577319078,
          0.0000038047436808709568,
          0.000003820977195534797,
          0.000003836674720077803,
          0.000003851826496027733,
          0.000003866423409733052,
          0.000003880456992940615,
          0.0000038939194219171,
          0.000003906803515143989,
          0.000003919102729619509,
          0.000003930811155804087,
          0.000003941923511249214,
          0.00000395243513295246,
          0.000003962341968484237,
          0.000003971640565934548,
          0.000003980328062730359,
          0.000003988402173376515,
          0.000003995861176175181,
          0.0000040027038989806085,
          0.000004008929704047813,
          0.000004014538472035143,
          0.0000040195305852220485,
          0.000004023906910004535,
          0.000004027668778731601,
          0.0000040308179709468,
          0.000004033356694099592,
          0.000004035287563791504,
          0.000004036613583622382,
          0.000004037338124702015,
          0.000004037464904892281,
          0.000004036997967844686,
          0.0000040359416618977,
          0.0000040343006188976855,
          0.000004032079733006447,
          0.000004029284139557538,
          0.000004025919194022391,
          0.000004021990451146189,
          0.000004017503644312011,
          0.00000401246466519042,
          0.000004006879543730043,
          0.0000040007544285430135,
          0.000003994095567737359,
          0.000003986909290246523,
          0.000003979201987704146,
          0.000003970980096910181,
          0.000003962250082932212,
          0.000003953018422883464,
          0.000003943291590416743,
          0.00000393307604097098,
          0.000003922378197804592,
          0.000003911204438847181,
          0.000003899561084398549,
          0.000003887454385701124,
          0.00000387489051440926,
          0.0000038618755529758816,
          0.000003848415485974227,
          0.000003834516192369375,
          0.000003820183438751402,
          0.000003805422873538949,
          0.0000037902400221590858,
          0.0000037746402832062025,
          0.0000037586289255798035,
          0.0000037422110865979173,
          0.000003725391771079908,
          0.000003708175851389452,
          0.000003690568068425439,
          0.0000036725730335456774,
          0.0000036541952314052585,
          0.0000036354390236887243,
          0.0000036163086537121996,
          0.0000035968082518690444,
          0.00000357694184188981,
          0.000003556713347884714,
          0.0000035361266021343344,
          0.0000035151853535917808,
          0.0000034938932770573172,
          0.000003472253982984176,
          0.0000034502710278722066,
          0.000003427947925204097,
          0.0000034052881568770095,
          0.000003382295185080864,
          0.0000033589724645728827,
          0.0000033353234552967446,
          0.0000033113516352933666,
          0.00000328706051384939,
          0.0000032624536448284813,
          0.000003237534640129964,
          0.000003212307183218676,
          0.0000031867750426697295,
          0.0000031609420856716486,
          0.0000031348122914314043,
          0.0000031083897644252015,
          0.00000308167874743918,
          0.000003054683634344964,
          0.00000302740898255573,
          0.0000029998595251094827,
          0.00000297204018232754,
          0.00000294395607299743,
          0.000002915612525031218,
          0.0000028870150855517827,
          0.0000028581695303617057,
          0.000002829081872751362,
          0.0000027997583716051438,
          0.0000027702055387671024,
          0.000002740430145629832,
          0.0000027104392289131395,
          0.000002680240095601746,
          0.000002649840327014282,
          0.0000026192477819787773,
          0.000002588470599092928,
          0.000002557517198050743,
          0.000002526396280020202,
          0.0000024951168270600786,
          0.000002463688100567256,
          0.0000024321196387493826,
          0.000002400421253120948,
          0.0000023686030240244293,
          0.0000023366752951813856,
          0.0000023046486672818756,
          0.0000022725339906237577,
          0.000002240342356816878,
          0.000002208085089570207,
          0.000002175773734583277,
          0.00000214342004856618,
          0.00000211103598741555,
          0.0000020786336935765694,
          0.0000020462254826240264,
          0.0000020138238290978705,
          0.0000019814413516313046,
          0.000001949090797411747,
          0.0000019167850260171627,
          0.0000018845369926723314,
          0.0000018523597309713844,
          0.0000018202663351147794,
          0.0000017882699417101524,
          0.0000017563837111880887,
          0.0000017246208088847107,
          0.000001692994385844191,
          0.000001661517559394822,
          0.0000016302033935530522,
          0.0000015990648793101261,
          0.0000015681149148562558,
          0.000001537366285797196,
          0.0000015068316454179498,
          0.0000014765234950479496,
          0.0000014464541645815417,
          0.0000014166357932068137,
          0.0000013870803103950635,
          0.0000013577994172019441,
          0.0000013288045679303635,
          0.0000013001069522035988,
          0.0000012717174774958364,
          0.0000012436467521654556,
          0.0000012159050690348685,
          0.0000011885023895585835,
          0.0000011614483286193763,
          0.0000011347521399902142,
          0.0000011084227024974491,
          0.0000010824685069184932,
          0.0000010568976436448498,
          0.000001031717791138947,
          0.000001006936205210758,
          9.8255970913765e-7,
          9.585946846484075e-7,
          9.3504706378968e-7,
          9.119223216906641e-7,
          8.892254702390361e-7,
          8.669610526787231e-7,
          8.451331391373265e-7,
          8.237453230885869e-7,
          8.028007187525739e-7,
          7.823019594338649e-7,
          7.622511967954174e-7,
          7.426501010634358e-7,
          7.234998621561136e-7,
          7.048011917268221e-7,
          6.865543261100313e-7,
          6.687590301560733e-7,
          6.514146019386935e-7,
          6.345198783173648e-7,
          6.180732413342807e-7,
          6.020726254241882e-7,
          5.86515525413317e-7,
          5.713990052820946e-7,
          5.567197076646335e-7,
          5.424738640565901e-7,
          5.28657305701498e-7,
          5.152654751244787e-7,
          5.022934382809866e-7,
          4.897358972871649e-7,
          4.775872036974542e-7,
          4.65841372294132e-7,
          4.544920953527893e-7,
          4.4353275734698233e-7,
          4.329564500548023e-7,
          4.2275598802959826e-7,
          4.1292392439673294e-7,
          4.034525669379908e-7,
          3.9433399442507575e-7,
          3.8556007316357473e-7,
          3.771224737087777e-7,
          3.690126877148507e-7,
          3.6122204487909034e-7,
          3.5374172994323076e-7,
          3.465627997142156e-7,
          3.3967620006723373e-7,
          3.330727828944364e-7,
          3.26743322963303e-7,
          3.206785346493729e-7,
          3.148690885087893e-7,
          3.093056276569663e-7,
          3.039787839205811e-7,
          2.9887919373106913e-7,
          2.939975137288281e-7,
          2.893244360484316e-7,
          2.8485070325629276e-7,
          2.8056712291342336e-7,
          2.764645817371688e-7,
          2.7253405933711215e-7,
          2.6876664150164974e-7,
          2.651535330131448e-7,
          2.6168606997095216e-7,
          2.5835573160306953e-7,
          2.5515415154863094e-7,
          2.520731285949721e-7,
          2.491046368545007e-7,
          2.4624083536816205e-7,
          2.434740771238393e-7,
          2.407969174795904e-7,
          2.3820212198320625e-7,
          2.356826735811494e-7,
          2.3323177921151162e-7,
          2.3084287577720474e-7,
          2.2850963549716556e-7,
          2.2622597063491912e-7,
          2.2398603760537186e-7,
          2.2178424046224832e-7,
          2.1961523377006486e-7,
          2.174739248660275e-7
         ],
         "yaxis": "y"
        }
       ],
       "layout": {
        "barmode": "overlay",
        "height": 600,
        "hovermode": "closest",
        "legend": {
         "title": {
          "text": "Scenario"
         },
         "traceorder": "reversed"
        },
        "template": {
         "data": {
          "bar": [
           {
            "error_x": {
             "color": "#2a3f5f"
            },
            "error_y": {
             "color": "#2a3f5f"
            },
            "marker": {
             "line": {
              "color": "#E5ECF6",
              "width": 0.5
             },
             "pattern": {
              "fillmode": "overlay",
              "size": 10,
              "solidity": 0.2
             }
            },
            "type": "bar"
           }
          ],
          "barpolar": [
           {
            "marker": {
             "line": {
              "color": "#E5ECF6",
              "width": 0.5
             },
             "pattern": {
              "fillmode": "overlay",
              "size": 10,
              "solidity": 0.2
             }
            },
            "type": "barpolar"
           }
          ],
          "carpet": [
           {
            "aaxis": {
             "endlinecolor": "#2a3f5f",
             "gridcolor": "white",
             "linecolor": "white",
             "minorgridcolor": "white",
             "startlinecolor": "#2a3f5f"
            },
            "baxis": {
             "endlinecolor": "#2a3f5f",
             "gridcolor": "white",
             "linecolor": "white",
             "minorgridcolor": "white",
             "startlinecolor": "#2a3f5f"
            },
            "type": "carpet"
           }
          ],
          "choropleth": [
           {
            "colorbar": {
             "outlinewidth": 0,
             "ticks": ""
            },
            "type": "choropleth"
           }
          ],
          "contour": [
           {
            "colorbar": {
             "outlinewidth": 0,
             "ticks": ""
            },
            "colorscale": [
             [
              0,
              "#0d0887"
             ],
             [
              0.1111111111111111,
              "#46039f"
             ],
             [
              0.2222222222222222,
              "#7201a8"
             ],
             [
              0.3333333333333333,
              "#9c179e"
             ],
             [
              0.4444444444444444,
              "#bd3786"
             ],
             [
              0.5555555555555556,
              "#d8576b"
             ],
             [
              0.6666666666666666,
              "#ed7953"
             ],
             [
              0.7777777777777778,
              "#fb9f3a"
             ],
             [
              0.8888888888888888,
              "#fdca26"
             ],
             [
              1,
              "#f0f921"
             ]
            ],
            "type": "contour"
           }
          ],
          "contourcarpet": [
           {
            "colorbar": {
             "outlinewidth": 0,
             "ticks": ""
            },
            "type": "contourcarpet"
           }
          ],
          "heatmap": [
           {
            "colorbar": {
             "outlinewidth": 0,
             "ticks": ""
            },
            "colorscale": [
             [
              0,
              "#0d0887"
             ],
             [
              0.1111111111111111,
              "#46039f"
             ],
             [
              0.2222222222222222,
              "#7201a8"
             ],
             [
              0.3333333333333333,
              "#9c179e"
             ],
             [
              0.4444444444444444,
              "#bd3786"
             ],
             [
              0.5555555555555556,
              "#d8576b"
             ],
             [
              0.6666666666666666,
              "#ed7953"
             ],
             [
              0.7777777777777778,
              "#fb9f3a"
             ],
             [
              0.8888888888888888,
              "#fdca26"
             ],
             [
              1,
              "#f0f921"
             ]
            ],
            "type": "heatmap"
           }
          ],
          "heatmapgl": [
           {
            "colorbar": {
             "outlinewidth": 0,
             "ticks": ""
            },
            "colorscale": [
             [
              0,
              "#0d0887"
             ],
             [
              0.1111111111111111,
              "#46039f"
             ],
             [
              0.2222222222222222,
              "#7201a8"
             ],
             [
              0.3333333333333333,
              "#9c179e"
             ],
             [
              0.4444444444444444,
              "#bd3786"
             ],
             [
              0.5555555555555556,
              "#d8576b"
             ],
             [
              0.6666666666666666,
              "#ed7953"
             ],
             [
              0.7777777777777778,
              "#fb9f3a"
             ],
             [
              0.8888888888888888,
              "#fdca26"
             ],
             [
              1,
              "#f0f921"
             ]
            ],
            "type": "heatmapgl"
           }
          ],
          "histogram": [
           {
            "marker": {
             "pattern": {
              "fillmode": "overlay",
              "size": 10,
              "solidity": 0.2
             }
            },
            "type": "histogram"
           }
          ],
          "histogram2d": [
           {
            "colorbar": {
             "outlinewidth": 0,
             "ticks": ""
            },
            "colorscale": [
             [
              0,
              "#0d0887"
             ],
             [
              0.1111111111111111,
              "#46039f"
             ],
             [
              0.2222222222222222,
              "#7201a8"
             ],
             [
              0.3333333333333333,
              "#9c179e"
             ],
             [
              0.4444444444444444,
              "#bd3786"
             ],
             [
              0.5555555555555556,
              "#d8576b"
             ],
             [
              0.6666666666666666,
              "#ed7953"
             ],
             [
              0.7777777777777778,
              "#fb9f3a"
             ],
             [
              0.8888888888888888,
              "#fdca26"
             ],
             [
              1,
              "#f0f921"
             ]
            ],
            "type": "histogram2d"
           }
          ],
          "histogram2dcontour": [
           {
            "colorbar": {
             "outlinewidth": 0,
             "ticks": ""
            },
            "colorscale": [
             [
              0,
              "#0d0887"
             ],
             [
              0.1111111111111111,
              "#46039f"
             ],
             [
              0.2222222222222222,
              "#7201a8"
             ],
             [
              0.3333333333333333,
              "#9c179e"
             ],
             [
              0.4444444444444444,
              "#bd3786"
             ],
             [
              0.5555555555555556,
              "#d8576b"
             ],
             [
              0.6666666666666666,
              "#ed7953"
             ],
             [
              0.7777777777777778,
              "#fb9f3a"
             ],
             [
              0.8888888888888888,
              "#fdca26"
             ],
             [
              1,
              "#f0f921"
             ]
            ],
            "type": "histogram2dcontour"
           }
          ],
          "mesh3d": [
           {
            "colorbar": {
             "outlinewidth": 0,
             "ticks": ""
            },
            "type": "mesh3d"
           }
          ],
          "parcoords": [
           {
            "line": {
             "colorbar": {
              "outlinewidth": 0,
              "ticks": ""
             }
            },
            "type": "parcoords"
           }
          ],
          "pie": [
           {
            "automargin": true,
            "type": "pie"
           }
          ],
          "scatter": [
           {
            "fillpattern": {
             "fillmode": "overlay",
             "size": 10,
             "solidity": 0.2
            },
            "type": "scatter"
           }
          ],
          "scatter3d": [
           {
            "line": {
             "colorbar": {
              "outlinewidth": 0,
              "ticks": ""
             }
            },
            "marker": {
             "colorbar": {
              "outlinewidth": 0,
              "ticks": ""
             }
            },
            "type": "scatter3d"
           }
          ],
          "scattercarpet": [
           {
            "marker": {
             "colorbar": {
              "outlinewidth": 0,
              "ticks": ""
             }
            },
            "type": "scattercarpet"
           }
          ],
          "scattergeo": [
           {
            "marker": {
             "colorbar": {
              "outlinewidth": 0,
              "ticks": ""
             }
            },
            "type": "scattergeo"
           }
          ],
          "scattergl": [
           {
            "marker": {
             "colorbar": {
              "outlinewidth": 0,
              "ticks": ""
             }
            },
            "type": "scattergl"
           }
          ],
          "scattermapbox": [
           {
            "marker": {
             "colorbar": {
              "outlinewidth": 0,
              "ticks": ""
             }
            },
            "type": "scattermapbox"
           }
          ],
          "scatterpolar": [
           {
            "marker": {
             "colorbar": {
              "outlinewidth": 0,
              "ticks": ""
             }
            },
            "type": "scatterpolar"
           }
          ],
          "scatterpolargl": [
           {
            "marker": {
             "colorbar": {
              "outlinewidth": 0,
              "ticks": ""
             }
            },
            "type": "scatterpolargl"
           }
          ],
          "scatterternary": [
           {
            "marker": {
             "colorbar": {
              "outlinewidth": 0,
              "ticks": ""
             }
            },
            "type": "scatterternary"
           }
          ],
          "surface": [
           {
            "colorbar": {
             "outlinewidth": 0,
             "ticks": ""
            },
            "colorscale": [
             [
              0,
              "#0d0887"
             ],
             [
              0.1111111111111111,
              "#46039f"
             ],
             [
              0.2222222222222222,
              "#7201a8"
             ],
             [
              0.3333333333333333,
              "#9c179e"
             ],
             [
              0.4444444444444444,
              "#bd3786"
             ],
             [
              0.5555555555555556,
              "#d8576b"
             ],
             [
              0.6666666666666666,
              "#ed7953"
             ],
             [
              0.7777777777777778,
              "#fb9f3a"
             ],
             [
              0.8888888888888888,
              "#fdca26"
             ],
             [
              1,
              "#f0f921"
             ]
            ],
            "type": "surface"
           }
          ],
          "table": [
           {
            "cells": {
             "fill": {
              "color": "#EBF0F8"
             },
             "line": {
              "color": "white"
             }
            },
            "header": {
             "fill": {
              "color": "#C8D4E3"
             },
             "line": {
              "color": "white"
             }
            },
            "type": "table"
           }
          ]
         },
         "layout": {
          "annotationdefaults": {
           "arrowcolor": "#2a3f5f",
           "arrowhead": 0,
           "arrowwidth": 1
          },
          "autotypenumbers": "strict",
          "coloraxis": {
           "colorbar": {
            "outlinewidth": 0,
            "ticks": ""
           }
          },
          "colorscale": {
           "diverging": [
            [
             0,
             "#8e0152"
            ],
            [
             0.1,
             "#c51b7d"
            ],
            [
             0.2,
             "#de77ae"
            ],
            [
             0.3,
             "#f1b6da"
            ],
            [
             0.4,
             "#fde0ef"
            ],
            [
             0.5,
             "#f7f7f7"
            ],
            [
             0.6,
             "#e6f5d0"
            ],
            [
             0.7,
             "#b8e186"
            ],
            [
             0.8,
             "#7fbc41"
            ],
            [
             0.9,
             "#4d9221"
            ],
            [
             1,
             "#276419"
            ]
           ],
           "sequential": [
            [
             0,
             "#0d0887"
            ],
            [
             0.1111111111111111,
             "#46039f"
            ],
            [
             0.2222222222222222,
             "#7201a8"
            ],
            [
             0.3333333333333333,
             "#9c179e"
            ],
            [
             0.4444444444444444,
             "#bd3786"
            ],
            [
             0.5555555555555556,
             "#d8576b"
            ],
            [
             0.6666666666666666,
             "#ed7953"
            ],
            [
             0.7777777777777778,
             "#fb9f3a"
            ],
            [
             0.8888888888888888,
             "#fdca26"
            ],
            [
             1,
             "#f0f921"
            ]
           ],
           "sequentialminus": [
            [
             0,
             "#0d0887"
            ],
            [
             0.1111111111111111,
             "#46039f"
            ],
            [
             0.2222222222222222,
             "#7201a8"
            ],
            [
             0.3333333333333333,
             "#9c179e"
            ],
            [
             0.4444444444444444,
             "#bd3786"
            ],
            [
             0.5555555555555556,
             "#d8576b"
            ],
            [
             0.6666666666666666,
             "#ed7953"
            ],
            [
             0.7777777777777778,
             "#fb9f3a"
            ],
            [
             0.8888888888888888,
             "#fdca26"
            ],
            [
             1,
             "#f0f921"
            ]
           ]
          },
          "colorway": [
           "#636efa",
           "#EF553B",
           "#00cc96",
           "#ab63fa",
           "#FFA15A",
           "#19d3f3",
           "#FF6692",
           "#B6E880",
           "#FF97FF",
           "#FECB52"
          ],
          "font": {
           "color": "#2a3f5f"
          },
          "geo": {
           "bgcolor": "white",
           "lakecolor": "white",
           "landcolor": "#E5ECF6",
           "showlakes": true,
           "showland": true,
           "subunitcolor": "white"
          },
          "hoverlabel": {
           "align": "left"
          },
          "hovermode": "closest",
          "mapbox": {
           "style": "light"
          },
          "paper_bgcolor": "white",
          "plot_bgcolor": "#E5ECF6",
          "polar": {
           "angularaxis": {
            "gridcolor": "white",
            "linecolor": "white",
            "ticks": ""
           },
           "bgcolor": "#E5ECF6",
           "radialaxis": {
            "gridcolor": "white",
            "linecolor": "white",
            "ticks": ""
           }
          },
          "scene": {
           "xaxis": {
            "backgroundcolor": "#E5ECF6",
            "gridcolor": "white",
            "gridwidth": 2,
            "linecolor": "white",
            "showbackground": true,
            "ticks": "",
            "zerolinecolor": "white"
           },
           "yaxis": {
            "backgroundcolor": "#E5ECF6",
            "gridcolor": "white",
            "gridwidth": 2,
            "linecolor": "white",
            "showbackground": true,
            "ticks": "",
            "zerolinecolor": "white"
           },
           "zaxis": {
            "backgroundcolor": "#E5ECF6",
            "gridcolor": "white",
            "gridwidth": 2,
            "linecolor": "white",
            "showbackground": true,
            "ticks": "",
            "zerolinecolor": "white"
           }
          },
          "shapedefaults": {
           "line": {
            "color": "#2a3f5f"
           }
          },
          "ternary": {
           "aaxis": {
            "gridcolor": "white",
            "linecolor": "white",
            "ticks": ""
           },
           "baxis": {
            "gridcolor": "white",
            "linecolor": "white",
            "ticks": ""
           },
           "bgcolor": "#E5ECF6",
           "caxis": {
            "gridcolor": "white",
            "linecolor": "white",
            "ticks": ""
           }
          },
          "title": {
           "x": 0.05
          },
          "xaxis": {
           "automargin": true,
           "gridcolor": "white",
           "linecolor": "white",
           "ticks": "",
           "title": {
            "standoff": 15
           },
           "zerolinecolor": "white",
           "zerolinewidth": 2
          },
          "yaxis": {
           "automargin": true,
           "gridcolor": "white",
           "linecolor": "white",
           "ticks": "",
           "title": {
            "standoff": 15
           },
           "zerolinecolor": "white",
           "zerolinewidth": 2
          }
         }
        },
        "title": {
         "text": "Density Plot of Equity NPV per Scenario"
        },
        "width": 800,
        "xaxis": {
         "anchor": "y2",
         "domain": [
          0,
          1
         ],
         "title": {
          "text": "NPV [kEUR]"
         },
         "zeroline": false
        },
        "yaxis": {
         "anchor": "free",
         "domain": [
          0,
          1
         ],
         "position": 0,
         "title": {
          "text": "Density"
         }
        }
       }
      }
     },
     "metadata": {},
     "output_type": "display_data"
    }
   ],
   "source": [
    "utils.plot_npv_kde_by_case(o, num_experiments, num_policies, case_list)"
   ]
  },
  {
   "cell_type": "markdown",
   "id": "b8ab73c1-b9bc-4727-bc8c-298b759b0737",
   "metadata": {},
   "source": [
    "### Boxplot"
   ]
  },
  {
   "cell_type": "code",
   "execution_count": 48,
   "id": "dccbf753-569d-4bae-80d3-c18f6069a18a",
   "metadata": {},
   "outputs": [
    {
     "name": "stdout",
     "output_type": "stream",
     "text": [
      "[ 0.07714747 -0.16368574 -0.05916978  0.07011175  0.08493606  0.06331572\n",
      "  0.01609687 -0.04271652 -0.01081932  0.01609687  0.06488303  0.08658483\n",
      "  0.09462743 -0.02433642  0.05662771  0.07784781 -0.11856737 -0.06461186\n",
      "  0.13801114  0.09049797  0.09590777 -0.03499443  0.02834027  0.04879471\n",
      "  0.07612768  0.03343514  0.0281915   0.03420152 -0.07003828  0.00913394\n",
      " -0.0396403   0.05547463 -0.02887644  0.04294909  0.04839352  0.01240515\n",
      " -0.07564211  0.06573407  0.02422215  0.05554436  0.08658483  0.07648101\n",
      "  0.04572085  0.03981372  0.04921931  0.05753935  0.0148902   0.02774477\n",
      "  0.06331625  0.04881762]\n",
      "['Case 1' 'Case 1' 'Case 1' 'Case 1' 'Case 1' 'Case 1' 'Case 1' 'Case 1'\n",
      " 'Case 1' 'Case 1' 'Case 1' 'Case 1' 'Case 1' 'Case 1' 'Case 1' 'Case 1'\n",
      " 'Case 1' 'Case 1' 'Case 1' 'Case 1' 'Case 1' 'Case 1' 'Case 1' 'Case 1'\n",
      " 'Case 1' 'Case 1' 'Case 1' 'Case 1' 'Case 1' 'Case 1' 'Case 1' 'Case 1'\n",
      " 'Case 1' 'Case 1' 'Case 1' 'Case 1' 'Case 1' 'Case 1' 'Case 1' 'Case 1'\n",
      " 'Case 1' 'Case 1' 'Case 1' 'Case 1' 'Case 1' 'Case 1' 'Case 1' 'Case 1'\n",
      " 'Case 1' 'Case 1']\n",
      "['Case 1' 'Case 1' 'Case 1' 'Case 1' 'Case 1' 'Case 1' 'Case 1' 'Case 1'\n",
      " 'Case 1' 'Case 1' 'Case 1' 'Case 1' 'Case 1' 'Case 1' 'Case 1' 'Case 1'\n",
      " 'Case 1' 'Case 1' 'Case 1' 'Case 1' 'Case 1' 'Case 1' 'Case 1' 'Case 1'\n",
      " 'Case 1' 'Case 1' 'Case 1' 'Case 1' 'Case 1' 'Case 1' 'Case 1' 'Case 1'\n",
      " 'Case 1' 'Case 1' 'Case 1' 'Case 1' 'Case 1' 'Case 1' 'Case 1' 'Case 1'\n",
      " 'Case 1' 'Case 1' 'Case 1' 'Case 1' 'Case 1' 'Case 1' 'Case 1' 'Case 1'\n",
      " 'Case 1' 'Case 1']\n"
     ]
    },
    {
     "data": {
      "application/vnd.plotly.v1+json": {
       "config": {
        "plotlyServerURL": "https://plot.ly"
       },
       "data": [
        {
         "alignmentgroup": "True",
         "hovertemplate": "Scenario=%{x}<br>IRR [Decimal]=%{y}<extra></extra>",
         "legendgroup": "Case 1",
         "marker": {
          "color": "#1c33ff"
         },
         "name": "Case 1",
         "notched": false,
         "offsetgroup": "Case 1",
         "orientation": "v",
         "showlegend": true,
         "type": "box",
         "x": [
          "Case 1",
          "Case 1",
          "Case 1",
          "Case 1",
          "Case 1",
          "Case 1",
          "Case 1",
          "Case 1",
          "Case 1",
          "Case 1",
          "Case 1",
          "Case 1",
          "Case 1",
          "Case 1",
          "Case 1",
          "Case 1",
          "Case 1",
          "Case 1",
          "Case 1",
          "Case 1",
          "Case 1",
          "Case 1",
          "Case 1",
          "Case 1",
          "Case 1",
          "Case 1",
          "Case 1",
          "Case 1",
          "Case 1",
          "Case 1",
          "Case 1",
          "Case 1",
          "Case 1",
          "Case 1",
          "Case 1",
          "Case 1",
          "Case 1",
          "Case 1",
          "Case 1",
          "Case 1",
          "Case 1",
          "Case 1",
          "Case 1",
          "Case 1",
          "Case 1",
          "Case 1",
          "Case 1",
          "Case 1",
          "Case 1",
          "Case 1"
         ],
         "x0": " ",
         "xaxis": "x",
         "y": [
          0.07714746952056889,
          -0.16368574381805956,
          -0.05916978340595961,
          0.07011174678802493,
          0.08493606090545652,
          0.0633157205581665,
          0.016096873283386232,
          -0.042716520950198164,
          -0.010819323062896728,
          0.016096873283386232,
          0.0648830270767212,
          0.08658483028411865,
          0.09462743282318115,
          -0.024336421899497515,
          0.05662770748138427,
          0.07784780979156494,
          -0.11856736896559596,
          -0.06461185999214653,
          0.13801113605499266,
          0.0904979658126831,
          0.09590776920318603,
          -0.03499442813917995,
          0.028340268135070804,
          0.04879471302032472,
          0.07612767696380615,
          0.0334351396560669,
          0.028191504478454588,
          0.034201521873474125,
          -0.07003827653825283,
          0.009133944511413576,
          -0.039640298746526234,
          0.055474629402160636,
          -0.028876443486660724,
          0.04294909000396729,
          0.04839352130889893,
          0.012405152320861817,
          -0.07564211390912533,
          0.06573406696319581,
          0.02422214984893799,
          0.05554436206817627,
          0.08658483028411865,
          0.07648101329803467,
          0.04572084903717041,
          0.039813723564147946,
          0.0492193078994751,
          0.0575393533706665,
          0.014890198707580566,
          0.027744774818420408,
          0.06331624507904052,
          0.04881762027740478
         ],
         "y0": " ",
         "yaxis": "y"
        }
       ],
       "layout": {
        "boxmode": "overlay",
        "height": 600,
        "legend": {
         "title": {
          "text": "Scenario"
         },
         "tracegroupgap": 0
        },
        "template": {
         "data": {
          "bar": [
           {
            "error_x": {
             "color": "#2a3f5f"
            },
            "error_y": {
             "color": "#2a3f5f"
            },
            "marker": {
             "line": {
              "color": "#E5ECF6",
              "width": 0.5
             },
             "pattern": {
              "fillmode": "overlay",
              "size": 10,
              "solidity": 0.2
             }
            },
            "type": "bar"
           }
          ],
          "barpolar": [
           {
            "marker": {
             "line": {
              "color": "#E5ECF6",
              "width": 0.5
             },
             "pattern": {
              "fillmode": "overlay",
              "size": 10,
              "solidity": 0.2
             }
            },
            "type": "barpolar"
           }
          ],
          "carpet": [
           {
            "aaxis": {
             "endlinecolor": "#2a3f5f",
             "gridcolor": "white",
             "linecolor": "white",
             "minorgridcolor": "white",
             "startlinecolor": "#2a3f5f"
            },
            "baxis": {
             "endlinecolor": "#2a3f5f",
             "gridcolor": "white",
             "linecolor": "white",
             "minorgridcolor": "white",
             "startlinecolor": "#2a3f5f"
            },
            "type": "carpet"
           }
          ],
          "choropleth": [
           {
            "colorbar": {
             "outlinewidth": 0,
             "ticks": ""
            },
            "type": "choropleth"
           }
          ],
          "contour": [
           {
            "colorbar": {
             "outlinewidth": 0,
             "ticks": ""
            },
            "colorscale": [
             [
              0,
              "#0d0887"
             ],
             [
              0.1111111111111111,
              "#46039f"
             ],
             [
              0.2222222222222222,
              "#7201a8"
             ],
             [
              0.3333333333333333,
              "#9c179e"
             ],
             [
              0.4444444444444444,
              "#bd3786"
             ],
             [
              0.5555555555555556,
              "#d8576b"
             ],
             [
              0.6666666666666666,
              "#ed7953"
             ],
             [
              0.7777777777777778,
              "#fb9f3a"
             ],
             [
              0.8888888888888888,
              "#fdca26"
             ],
             [
              1,
              "#f0f921"
             ]
            ],
            "type": "contour"
           }
          ],
          "contourcarpet": [
           {
            "colorbar": {
             "outlinewidth": 0,
             "ticks": ""
            },
            "type": "contourcarpet"
           }
          ],
          "heatmap": [
           {
            "colorbar": {
             "outlinewidth": 0,
             "ticks": ""
            },
            "colorscale": [
             [
              0,
              "#0d0887"
             ],
             [
              0.1111111111111111,
              "#46039f"
             ],
             [
              0.2222222222222222,
              "#7201a8"
             ],
             [
              0.3333333333333333,
              "#9c179e"
             ],
             [
              0.4444444444444444,
              "#bd3786"
             ],
             [
              0.5555555555555556,
              "#d8576b"
             ],
             [
              0.6666666666666666,
              "#ed7953"
             ],
             [
              0.7777777777777778,
              "#fb9f3a"
             ],
             [
              0.8888888888888888,
              "#fdca26"
             ],
             [
              1,
              "#f0f921"
             ]
            ],
            "type": "heatmap"
           }
          ],
          "heatmapgl": [
           {
            "colorbar": {
             "outlinewidth": 0,
             "ticks": ""
            },
            "colorscale": [
             [
              0,
              "#0d0887"
             ],
             [
              0.1111111111111111,
              "#46039f"
             ],
             [
              0.2222222222222222,
              "#7201a8"
             ],
             [
              0.3333333333333333,
              "#9c179e"
             ],
             [
              0.4444444444444444,
              "#bd3786"
             ],
             [
              0.5555555555555556,
              "#d8576b"
             ],
             [
              0.6666666666666666,
              "#ed7953"
             ],
             [
              0.7777777777777778,
              "#fb9f3a"
             ],
             [
              0.8888888888888888,
              "#fdca26"
             ],
             [
              1,
              "#f0f921"
             ]
            ],
            "type": "heatmapgl"
           }
          ],
          "histogram": [
           {
            "marker": {
             "pattern": {
              "fillmode": "overlay",
              "size": 10,
              "solidity": 0.2
             }
            },
            "type": "histogram"
           }
          ],
          "histogram2d": [
           {
            "colorbar": {
             "outlinewidth": 0,
             "ticks": ""
            },
            "colorscale": [
             [
              0,
              "#0d0887"
             ],
             [
              0.1111111111111111,
              "#46039f"
             ],
             [
              0.2222222222222222,
              "#7201a8"
             ],
             [
              0.3333333333333333,
              "#9c179e"
             ],
             [
              0.4444444444444444,
              "#bd3786"
             ],
             [
              0.5555555555555556,
              "#d8576b"
             ],
             [
              0.6666666666666666,
              "#ed7953"
             ],
             [
              0.7777777777777778,
              "#fb9f3a"
             ],
             [
              0.8888888888888888,
              "#fdca26"
             ],
             [
              1,
              "#f0f921"
             ]
            ],
            "type": "histogram2d"
           }
          ],
          "histogram2dcontour": [
           {
            "colorbar": {
             "outlinewidth": 0,
             "ticks": ""
            },
            "colorscale": [
             [
              0,
              "#0d0887"
             ],
             [
              0.1111111111111111,
              "#46039f"
             ],
             [
              0.2222222222222222,
              "#7201a8"
             ],
             [
              0.3333333333333333,
              "#9c179e"
             ],
             [
              0.4444444444444444,
              "#bd3786"
             ],
             [
              0.5555555555555556,
              "#d8576b"
             ],
             [
              0.6666666666666666,
              "#ed7953"
             ],
             [
              0.7777777777777778,
              "#fb9f3a"
             ],
             [
              0.8888888888888888,
              "#fdca26"
             ],
             [
              1,
              "#f0f921"
             ]
            ],
            "type": "histogram2dcontour"
           }
          ],
          "mesh3d": [
           {
            "colorbar": {
             "outlinewidth": 0,
             "ticks": ""
            },
            "type": "mesh3d"
           }
          ],
          "parcoords": [
           {
            "line": {
             "colorbar": {
              "outlinewidth": 0,
              "ticks": ""
             }
            },
            "type": "parcoords"
           }
          ],
          "pie": [
           {
            "automargin": true,
            "type": "pie"
           }
          ],
          "scatter": [
           {
            "fillpattern": {
             "fillmode": "overlay",
             "size": 10,
             "solidity": 0.2
            },
            "type": "scatter"
           }
          ],
          "scatter3d": [
           {
            "line": {
             "colorbar": {
              "outlinewidth": 0,
              "ticks": ""
             }
            },
            "marker": {
             "colorbar": {
              "outlinewidth": 0,
              "ticks": ""
             }
            },
            "type": "scatter3d"
           }
          ],
          "scattercarpet": [
           {
            "marker": {
             "colorbar": {
              "outlinewidth": 0,
              "ticks": ""
             }
            },
            "type": "scattercarpet"
           }
          ],
          "scattergeo": [
           {
            "marker": {
             "colorbar": {
              "outlinewidth": 0,
              "ticks": ""
             }
            },
            "type": "scattergeo"
           }
          ],
          "scattergl": [
           {
            "marker": {
             "colorbar": {
              "outlinewidth": 0,
              "ticks": ""
             }
            },
            "type": "scattergl"
           }
          ],
          "scattermapbox": [
           {
            "marker": {
             "colorbar": {
              "outlinewidth": 0,
              "ticks": ""
             }
            },
            "type": "scattermapbox"
           }
          ],
          "scatterpolar": [
           {
            "marker": {
             "colorbar": {
              "outlinewidth": 0,
              "ticks": ""
             }
            },
            "type": "scatterpolar"
           }
          ],
          "scatterpolargl": [
           {
            "marker": {
             "colorbar": {
              "outlinewidth": 0,
              "ticks": ""
             }
            },
            "type": "scatterpolargl"
           }
          ],
          "scatterternary": [
           {
            "marker": {
             "colorbar": {
              "outlinewidth": 0,
              "ticks": ""
             }
            },
            "type": "scatterternary"
           }
          ],
          "surface": [
           {
            "colorbar": {
             "outlinewidth": 0,
             "ticks": ""
            },
            "colorscale": [
             [
              0,
              "#0d0887"
             ],
             [
              0.1111111111111111,
              "#46039f"
             ],
             [
              0.2222222222222222,
              "#7201a8"
             ],
             [
              0.3333333333333333,
              "#9c179e"
             ],
             [
              0.4444444444444444,
              "#bd3786"
             ],
             [
              0.5555555555555556,
              "#d8576b"
             ],
             [
              0.6666666666666666,
              "#ed7953"
             ],
             [
              0.7777777777777778,
              "#fb9f3a"
             ],
             [
              0.8888888888888888,
              "#fdca26"
             ],
             [
              1,
              "#f0f921"
             ]
            ],
            "type": "surface"
           }
          ],
          "table": [
           {
            "cells": {
             "fill": {
              "color": "#EBF0F8"
             },
             "line": {
              "color": "white"
             }
            },
            "header": {
             "fill": {
              "color": "#C8D4E3"
             },
             "line": {
              "color": "white"
             }
            },
            "type": "table"
           }
          ]
         },
         "layout": {
          "annotationdefaults": {
           "arrowcolor": "#2a3f5f",
           "arrowhead": 0,
           "arrowwidth": 1
          },
          "autotypenumbers": "strict",
          "coloraxis": {
           "colorbar": {
            "outlinewidth": 0,
            "ticks": ""
           }
          },
          "colorscale": {
           "diverging": [
            [
             0,
             "#8e0152"
            ],
            [
             0.1,
             "#c51b7d"
            ],
            [
             0.2,
             "#de77ae"
            ],
            [
             0.3,
             "#f1b6da"
            ],
            [
             0.4,
             "#fde0ef"
            ],
            [
             0.5,
             "#f7f7f7"
            ],
            [
             0.6,
             "#e6f5d0"
            ],
            [
             0.7,
             "#b8e186"
            ],
            [
             0.8,
             "#7fbc41"
            ],
            [
             0.9,
             "#4d9221"
            ],
            [
             1,
             "#276419"
            ]
           ],
           "sequential": [
            [
             0,
             "#0d0887"
            ],
            [
             0.1111111111111111,
             "#46039f"
            ],
            [
             0.2222222222222222,
             "#7201a8"
            ],
            [
             0.3333333333333333,
             "#9c179e"
            ],
            [
             0.4444444444444444,
             "#bd3786"
            ],
            [
             0.5555555555555556,
             "#d8576b"
            ],
            [
             0.6666666666666666,
             "#ed7953"
            ],
            [
             0.7777777777777778,
             "#fb9f3a"
            ],
            [
             0.8888888888888888,
             "#fdca26"
            ],
            [
             1,
             "#f0f921"
            ]
           ],
           "sequentialminus": [
            [
             0,
             "#0d0887"
            ],
            [
             0.1111111111111111,
             "#46039f"
            ],
            [
             0.2222222222222222,
             "#7201a8"
            ],
            [
             0.3333333333333333,
             "#9c179e"
            ],
            [
             0.4444444444444444,
             "#bd3786"
            ],
            [
             0.5555555555555556,
             "#d8576b"
            ],
            [
             0.6666666666666666,
             "#ed7953"
            ],
            [
             0.7777777777777778,
             "#fb9f3a"
            ],
            [
             0.8888888888888888,
             "#fdca26"
            ],
            [
             1,
             "#f0f921"
            ]
           ]
          },
          "colorway": [
           "#636efa",
           "#EF553B",
           "#00cc96",
           "#ab63fa",
           "#FFA15A",
           "#19d3f3",
           "#FF6692",
           "#B6E880",
           "#FF97FF",
           "#FECB52"
          ],
          "font": {
           "color": "#2a3f5f"
          },
          "geo": {
           "bgcolor": "white",
           "lakecolor": "white",
           "landcolor": "#E5ECF6",
           "showlakes": true,
           "showland": true,
           "subunitcolor": "white"
          },
          "hoverlabel": {
           "align": "left"
          },
          "hovermode": "closest",
          "mapbox": {
           "style": "light"
          },
          "paper_bgcolor": "white",
          "plot_bgcolor": "#E5ECF6",
          "polar": {
           "angularaxis": {
            "gridcolor": "white",
            "linecolor": "white",
            "ticks": ""
           },
           "bgcolor": "#E5ECF6",
           "radialaxis": {
            "gridcolor": "white",
            "linecolor": "white",
            "ticks": ""
           }
          },
          "scene": {
           "xaxis": {
            "backgroundcolor": "#E5ECF6",
            "gridcolor": "white",
            "gridwidth": 2,
            "linecolor": "white",
            "showbackground": true,
            "ticks": "",
            "zerolinecolor": "white"
           },
           "yaxis": {
            "backgroundcolor": "#E5ECF6",
            "gridcolor": "white",
            "gridwidth": 2,
            "linecolor": "white",
            "showbackground": true,
            "ticks": "",
            "zerolinecolor": "white"
           },
           "zaxis": {
            "backgroundcolor": "#E5ECF6",
            "gridcolor": "white",
            "gridwidth": 2,
            "linecolor": "white",
            "showbackground": true,
            "ticks": "",
            "zerolinecolor": "white"
           }
          },
          "shapedefaults": {
           "line": {
            "color": "#2a3f5f"
           }
          },
          "ternary": {
           "aaxis": {
            "gridcolor": "white",
            "linecolor": "white",
            "ticks": ""
           },
           "baxis": {
            "gridcolor": "white",
            "linecolor": "white",
            "ticks": ""
           },
           "bgcolor": "#E5ECF6",
           "caxis": {
            "gridcolor": "white",
            "linecolor": "white",
            "ticks": ""
           }
          },
          "title": {
           "x": 0.05
          },
          "xaxis": {
           "automargin": true,
           "gridcolor": "white",
           "linecolor": "white",
           "ticks": "",
           "title": {
            "standoff": 15
           },
           "zerolinecolor": "white",
           "zerolinewidth": 2
          },
          "yaxis": {
           "automargin": true,
           "gridcolor": "white",
           "linecolor": "white",
           "ticks": "",
           "title": {
            "standoff": 15
           },
           "zerolinecolor": "white",
           "zerolinewidth": 2
          }
         }
        },
        "title": {
         "text": "Box Plot of Equity IRR per Scenario"
        },
        "width": 800,
        "xaxis": {
         "anchor": "y",
         "categoryarray": [
          "Case 1"
         ],
         "categoryorder": "array",
         "domain": [
          0,
          1
         ],
         "title": {
          "text": "Scenario"
         }
        },
        "yaxis": {
         "anchor": "x",
         "domain": [
          0,
          1
         ],
         "title": {
          "text": "IRR [Decimal]"
         }
        }
       }
      }
     },
     "metadata": {},
     "output_type": "display_data"
    }
   ],
   "source": [
    "utils.plot_npv_boxplot(o, case_list)"
   ]
  },
  {
   "cell_type": "markdown",
   "id": "a94c9779-8648-476b-8fb9-24cbe66affbc",
   "metadata": {},
   "source": [
    "## PRIM analysis"
   ]
  },
  {
   "cell_type": "markdown",
   "id": "4e664815-305a-4be3-bd99-17247fd6d4ae",
   "metadata": {},
   "source": [
    "### Model Check"
   ]
  },
  {
   "cell_type": "code",
   "execution_count": 54,
   "id": "2a3682a1-5a90-4bfb-afbb-7d4fef08b7b3",
   "metadata": {},
   "outputs": [
    {
     "ename": "AssertionError",
     "evalue": "",
     "output_type": "error",
     "traceback": [
      "\u001b[1;31m---------------------------------------------------------------------------\u001b[0m",
      "\u001b[1;31mAssertionError\u001b[0m                            Traceback (most recent call last)",
      "Cell \u001b[1;32mIn[54], line 4\u001b[0m\n\u001b[0;32m      1\u001b[0m y \u001b[38;5;241m=\u001b[39m (o[\u001b[38;5;124m\"\u001b[39m\u001b[38;5;124mEquity_IRR\u001b[39m\u001b[38;5;124m\"\u001b[39m] \u001b[38;5;241m>\u001b[39m \u001b[38;5;241m0.35\u001b[39m) \n\u001b[0;32m      2\u001b[0m \u001b[38;5;66;03m#& (o[\"DSCR_First5Years_Min\"] >= 1.0) & (o[\"ADSCR_First5Years\"] >= 1.15)\u001b[39;00m\n\u001b[0;32m      3\u001b[0m \u001b[38;5;66;03m# Run the PRIM algorithm\u001b[39;00m\n\u001b[1;32m----> 4\u001b[0m prim_alg \u001b[38;5;241m=\u001b[39m \u001b[43mprim\u001b[49m\u001b[38;5;241;43m.\u001b[39;49m\u001b[43mPrim\u001b[49m\u001b[43m(\u001b[49m\u001b[43mx\u001b[49m\u001b[43m,\u001b[49m\u001b[43m \u001b[49m\u001b[43my\u001b[49m\u001b[43m,\u001b[49m\u001b[43m \u001b[49m\u001b[43mthreshold\u001b[49m\u001b[38;5;241;43m=\u001b[39;49m\u001b[38;5;241;43m0.8\u001b[39;49m\u001b[43m,\u001b[49m\u001b[43m \u001b[49m\u001b[43mpeel_alpha\u001b[49m\u001b[38;5;241;43m=\u001b[39;49m\u001b[38;5;241;43m0.1\u001b[39;49m\u001b[43m)\u001b[49m\n\u001b[0;32m      5\u001b[0m box1 \u001b[38;5;241m=\u001b[39m prim_alg\u001b[38;5;241m.\u001b[39mfind_box()\n\u001b[0;32m      6\u001b[0m box1\u001b[38;5;241m.\u001b[39mshow_tradeoff()\n",
      "File \u001b[1;32mc:\\Users\\ArnauDuatisTarradell\\AppData\\Local\\Programs\\Python\\Python313\\Lib\\site-packages\\ema_workbench\\analysis\\prim.py:1037\u001b[0m, in \u001b[0;36mPrim.__init__\u001b[1;34m(self, x, y, threshold, obj_function, peel_alpha, paste_alpha, mass_min, threshold_type, mode, update_function)\u001b[0m\n\u001b[0;32m   1023\u001b[0m \u001b[38;5;28;01mdef\u001b[39;00m\u001b[38;5;250m \u001b[39m\u001b[38;5;21m__init__\u001b[39m(\n\u001b[0;32m   1024\u001b[0m     \u001b[38;5;28mself\u001b[39m,\n\u001b[0;32m   1025\u001b[0m     x,\n\u001b[1;32m   (...)\u001b[0m\n\u001b[0;32m   1034\u001b[0m     update_function\u001b[38;5;241m=\u001b[39m\u001b[38;5;124m\"\u001b[39m\u001b[38;5;124mdefault\u001b[39m\u001b[38;5;124m\"\u001b[39m,\n\u001b[0;32m   1035\u001b[0m ):\n\u001b[0;32m   1036\u001b[0m     \u001b[38;5;28;01massert\u001b[39;00m mode \u001b[38;5;129;01min\u001b[39;00m {sdutil\u001b[38;5;241m.\u001b[39mRuleInductionType\u001b[38;5;241m.\u001b[39mBINARY, sdutil\u001b[38;5;241m.\u001b[39mRuleInductionType\u001b[38;5;241m.\u001b[39mREGRESSION}\n\u001b[1;32m-> 1037\u001b[0m     \u001b[38;5;28;01massert\u001b[39;00m \u001b[38;5;28mself\u001b[39m\u001b[38;5;241m.\u001b[39m_assert_mode(y, mode, update_function)\n\u001b[0;32m   1038\u001b[0m     \u001b[38;5;66;03m# preprocess x\u001b[39;00m\n\u001b[0;32m   1039\u001b[0m     x \u001b[38;5;241m=\u001b[39m x\u001b[38;5;241m.\u001b[39mcopy()\n",
      "\u001b[1;31mAssertionError\u001b[0m: "
     ]
    }
   ],
   "source": [
    "y = (o[\"Equity_IRR\"] > 0.35) \n",
    "#& (o[\"DSCR_First5Years_Min\"] >= 1.0) & (o[\"ADSCR_First5Years\"] >= 1.15)\n",
    "# Run the PRIM algorithm\n",
    "prim_alg = prim.Prim(x, y, threshold=0.8, peel_alpha=0.1)\n",
    "box1 = prim_alg.find_box()\n",
    "box1.show_tradeoff()\n",
    "\n",
    "fig = plt.gcf()\n",
    "fig.set_size_inches(14,7)"
   ]
  },
  {
   "cell_type": "code",
   "execution_count": 55,
   "id": "354cc167-2817-4ca9-b87f-0fde1a15a4eb",
   "metadata": {},
   "outputs": [
    {
     "ename": "NameError",
     "evalue": "name 'box1' is not defined",
     "output_type": "error",
     "traceback": [
      "\u001b[1;31m---------------------------------------------------------------------------\u001b[0m",
      "\u001b[1;31mNameError\u001b[0m                                 Traceback (most recent call last)",
      "Cell \u001b[1;32mIn[55], line 3\u001b[0m\n\u001b[0;32m      1\u001b[0m \u001b[38;5;66;03m# specify box of interest\u001b[39;00m\n\u001b[0;32m      2\u001b[0m boi \u001b[38;5;241m=\u001b[39m \u001b[38;5;241m25\u001b[39m\n\u001b[1;32m----> 3\u001b[0m \u001b[43mbox1\u001b[49m\u001b[38;5;241m.\u001b[39minspect(boi)\n\u001b[0;32m      4\u001b[0m box1\u001b[38;5;241m.\u001b[39minspect(boi, style\u001b[38;5;241m=\u001b[39m\u001b[38;5;124m'\u001b[39m\u001b[38;5;124mgraph\u001b[39m\u001b[38;5;124m'\u001b[39m)\n\u001b[0;32m      6\u001b[0m fig \u001b[38;5;241m=\u001b[39m plt\u001b[38;5;241m.\u001b[39mgcf()\n",
      "\u001b[1;31mNameError\u001b[0m: name 'box1' is not defined"
     ]
    }
   ],
   "source": [
    "# specify box of interest\n",
    "boi = 25\n",
    "box1.inspect(boi)\n",
    "box1.inspect(boi, style='graph')\n",
    "\n",
    "fig = plt.gcf()\n",
    "fig.set_size_inches(18,6)"
   ]
  },
  {
   "cell_type": "code",
   "execution_count": 56,
   "id": "2a8fa3f8-3c8e-44a4-aba1-7ef0e12ae728",
   "metadata": {},
   "outputs": [
    {
     "ename": "NameError",
     "evalue": "name 'box1' is not defined",
     "output_type": "error",
     "traceback": [
      "\u001b[1;31m---------------------------------------------------------------------------\u001b[0m",
      "\u001b[1;31mNameError\u001b[0m                                 Traceback (most recent call last)",
      "Cell \u001b[1;32mIn[56], line 1\u001b[0m\n\u001b[1;32m----> 1\u001b[0m \u001b[43mbox1\u001b[49m\u001b[38;5;241m.\u001b[39mshow_pairs_scatter(boi)\n\u001b[0;32m      3\u001b[0m fig \u001b[38;5;241m=\u001b[39m plt\u001b[38;5;241m.\u001b[39mgcf()\n\u001b[0;32m      4\u001b[0m fig\u001b[38;5;241m.\u001b[39mset_size_inches(\u001b[38;5;241m16\u001b[39m,\u001b[38;5;241m12\u001b[39m)\n",
      "\u001b[1;31mNameError\u001b[0m: name 'box1' is not defined"
     ]
    }
   ],
   "source": [
    "box1.show_pairs_scatter(boi)\n",
    "\n",
    "fig = plt.gcf()\n",
    "fig.set_size_inches(16,12)"
   ]
  },
  {
   "cell_type": "markdown",
   "id": "a560ada3-dae3-4ef6-a6fd-b52c62101936",
   "metadata": {},
   "source": [
    "## Model Behaviour Check"
   ]
  },
  {
   "cell_type": "code",
   "execution_count": 57,
   "id": "a85b5567-3d91-4cb0-9b31-cb3c78ea80c8",
   "metadata": {},
   "outputs": [
    {
     "data": {
      "text/html": [
       "<div>\n",
       "<style scoped>\n",
       "    .dataframe tbody tr th:only-of-type {\n",
       "        vertical-align: middle;\n",
       "    }\n",
       "\n",
       "    .dataframe tbody tr th {\n",
       "        vertical-align: top;\n",
       "    }\n",
       "\n",
       "    .dataframe thead th {\n",
       "        text-align: right;\n",
       "    }\n",
       "</style>\n",
       "<table border=\"1\" class=\"dataframe\">\n",
       "  <thead>\n",
       "    <tr style=\"text-align: right;\">\n",
       "      <th></th>\n",
       "      <th>forecast_scenario</th>\n",
       "      <th>scenario</th>\n",
       "      <th>policy</th>\n",
       "      <th>model</th>\n",
       "      <th>MODELCHECK</th>\n",
       "    </tr>\n",
       "  </thead>\n",
       "  <tbody>\n",
       "  </tbody>\n",
       "</table>\n",
       "</div>"
      ],
      "text/plain": [
       "Empty DataFrame\n",
       "Columns: [forecast_scenario, scenario, policy, model, MODELCHECK]\n",
       "Index: []"
      ]
     },
     "execution_count": 57,
     "metadata": {},
     "output_type": "execute_result"
    }
   ],
   "source": [
    "MC_values = np.array(o['MODELCHECK']).astype(float)\n",
    "\n",
    "    # Create a DataFrame for better handling\n",
    "dataMC = pd.DataFrame({'MODELCHECK': MC_values})\n",
    "\n",
    "Validation_Analysis = pd.merge(x, dataMC, right_index=True, left_index=True)\n",
    "filtered_df = Validation_Analysis[Validation_Analysis['MODELCHECK'] > 0]\n",
    "filtered_df"
   ]
  },
  {
   "cell_type": "markdown",
   "id": "09528683-bc07-4266-9833-1efd6ecb8a11",
   "metadata": {},
   "source": [
    "## Parameter Sensitivity Test"
   ]
  },
  {
   "cell_type": "code",
   "execution_count": 58,
   "id": "0b885516-1066-4d6a-9916-e7ab6828a9e4",
   "metadata": {},
   "outputs": [
    {
     "ename": "KeyError",
     "evalue": "'Case'",
     "output_type": "error",
     "traceback": [
      "\u001b[1;31m---------------------------------------------------------------------------\u001b[0m",
      "\u001b[1;31mKeyError\u001b[0m                                  Traceback (most recent call last)",
      "File \u001b[1;32mc:\\Users\\ArnauDuatisTarradell\\AppData\\Local\\Programs\\Python\\Python313\\Lib\\site-packages\\pandas\\core\\indexes\\base.py:3805\u001b[0m, in \u001b[0;36mIndex.get_loc\u001b[1;34m(self, key)\u001b[0m\n\u001b[0;32m   3804\u001b[0m \u001b[38;5;28;01mtry\u001b[39;00m:\n\u001b[1;32m-> 3805\u001b[0m     \u001b[38;5;28;01mreturn\u001b[39;00m \u001b[38;5;28;43mself\u001b[39;49m\u001b[38;5;241;43m.\u001b[39;49m\u001b[43m_engine\u001b[49m\u001b[38;5;241;43m.\u001b[39;49m\u001b[43mget_loc\u001b[49m\u001b[43m(\u001b[49m\u001b[43mcasted_key\u001b[49m\u001b[43m)\u001b[49m\n\u001b[0;32m   3806\u001b[0m \u001b[38;5;28;01mexcept\u001b[39;00m \u001b[38;5;167;01mKeyError\u001b[39;00m \u001b[38;5;28;01mas\u001b[39;00m err:\n",
      "File \u001b[1;32mindex.pyx:167\u001b[0m, in \u001b[0;36mpandas._libs.index.IndexEngine.get_loc\u001b[1;34m()\u001b[0m\n",
      "File \u001b[1;32mindex.pyx:196\u001b[0m, in \u001b[0;36mpandas._libs.index.IndexEngine.get_loc\u001b[1;34m()\u001b[0m\n",
      "File \u001b[1;32mpandas\\\\_libs\\\\hashtable_class_helper.pxi:7081\u001b[0m, in \u001b[0;36mpandas._libs.hashtable.PyObjectHashTable.get_item\u001b[1;34m()\u001b[0m\n",
      "File \u001b[1;32mpandas\\\\_libs\\\\hashtable_class_helper.pxi:7089\u001b[0m, in \u001b[0;36mpandas._libs.hashtable.PyObjectHashTable.get_item\u001b[1;34m()\u001b[0m\n",
      "\u001b[1;31mKeyError\u001b[0m: 'Case'",
      "\nThe above exception was the direct cause of the following exception:\n",
      "\u001b[1;31mKeyError\u001b[0m                                  Traceback (most recent call last)",
      "Cell \u001b[1;32mIn[58], line 1\u001b[0m\n\u001b[1;32m----> 1\u001b[0m fig, axes \u001b[38;5;241m=\u001b[39m \u001b[43mpairs_plotting\u001b[49m\u001b[38;5;241;43m.\u001b[39;49m\u001b[43mpairs_scatter\u001b[49m\u001b[43m(\u001b[49m\u001b[43mx\u001b[49m\u001b[43m,\u001b[49m\u001b[43m \u001b[49m\u001b[43mo\u001b[49m\u001b[43m,\u001b[49m\u001b[43m \u001b[49m\u001b[43mgroup_by\u001b[49m\u001b[43m \u001b[49m\u001b[38;5;241;43m=\u001b[39;49m\u001b[43m \u001b[49m\u001b[38;5;124;43m\"\u001b[39;49m\u001b[38;5;124;43mCase\u001b[39;49m\u001b[38;5;124;43m\"\u001b[39;49m\u001b[43m,\u001b[49m\u001b[43m \u001b[49m\u001b[43mlegend\u001b[49m\u001b[43m \u001b[49m\u001b[38;5;241;43m=\u001b[39;49m\u001b[43m \u001b[49m\u001b[38;5;28;43;01mTrue\u001b[39;49;00m\u001b[43m)\u001b[49m\n\u001b[0;32m      3\u001b[0m fig \u001b[38;5;241m=\u001b[39m plt\u001b[38;5;241m.\u001b[39mgcf()\n\u001b[0;32m      4\u001b[0m fig\u001b[38;5;241m.\u001b[39mset_size_inches(\u001b[38;5;241m20\u001b[39m, \u001b[38;5;241m20\u001b[39m)\n",
      "File \u001b[1;32mc:\\Users\\ArnauDuatisTarradell\\AppData\\Local\\Programs\\Python\\Python313\\Lib\\site-packages\\ema_workbench\\analysis\\pairs_plotting.py:446\u001b[0m, in \u001b[0;36mpairs_scatter\u001b[1;34m(experiments, outcomes, outcomes_to_show, group_by, grouping_specifiers, ylabels, legend, point_in_time, filter_scalar, **kwargs)\u001b[0m\n\u001b[0;32m    395\u001b[0m \u001b[38;5;250m\u001b[39m\u001b[38;5;124;03m\"\"\"\u001b[39;00m\n\u001b[0;32m    396\u001b[0m \n\u001b[0;32m    397\u001b[0m \u001b[38;5;124;03mGenerate a `R style pairs <https://www.stat.psu.edu/~dhunter/R/html/graphics/html/pairs.html>`_\u001b[39;00m\n\u001b[1;32m   (...)\u001b[0m\n\u001b[0;32m    441\u001b[0m \n\u001b[0;32m    442\u001b[0m \u001b[38;5;124;03m\"\"\"\u001b[39;00m\n\u001b[0;32m    444\u001b[0m _logger\u001b[38;5;241m.\u001b[39mdebug(\u001b[38;5;124m\"\u001b[39m\u001b[38;5;124mgenerating pairwise scatter plot\u001b[39m\u001b[38;5;124m\"\u001b[39m)\n\u001b[1;32m--> 446\u001b[0m prepared_data \u001b[38;5;241m=\u001b[39m \u001b[43mprepare_pairs_data\u001b[49m\u001b[43m(\u001b[49m\n\u001b[0;32m    447\u001b[0m \u001b[43m    \u001b[49m\u001b[43mexperiments\u001b[49m\u001b[43m,\u001b[49m\n\u001b[0;32m    448\u001b[0m \u001b[43m    \u001b[49m\u001b[43moutcomes\u001b[49m\u001b[43m,\u001b[49m\n\u001b[0;32m    449\u001b[0m \u001b[43m    \u001b[49m\u001b[43moutcomes_to_show\u001b[49m\u001b[43m,\u001b[49m\n\u001b[0;32m    450\u001b[0m \u001b[43m    \u001b[49m\u001b[43mgroup_by\u001b[49m\u001b[43m,\u001b[49m\n\u001b[0;32m    451\u001b[0m \u001b[43m    \u001b[49m\u001b[43mgrouping_specifiers\u001b[49m\u001b[43m,\u001b[49m\n\u001b[0;32m    452\u001b[0m \u001b[43m    \u001b[49m\u001b[43mpoint_in_time\u001b[49m\u001b[43m,\u001b[49m\n\u001b[0;32m    453\u001b[0m \u001b[43m    \u001b[49m\u001b[43mfilter_scalar\u001b[49m\u001b[43m,\u001b[49m\n\u001b[0;32m    454\u001b[0m \u001b[43m\u001b[49m\u001b[43m)\u001b[49m\n\u001b[0;32m    455\u001b[0m experiments, outcomes, outcomes_to_show, grouping_labels \u001b[38;5;241m=\u001b[39m prepared_data\n\u001b[0;32m    457\u001b[0m grid \u001b[38;5;241m=\u001b[39m gridspec\u001b[38;5;241m.\u001b[39mGridSpec(\u001b[38;5;28mlen\u001b[39m(outcomes_to_show), \u001b[38;5;28mlen\u001b[39m(outcomes_to_show))\n",
      "File \u001b[1;32mc:\\Users\\ArnauDuatisTarradell\\AppData\\Local\\Programs\\Python\\Python313\\Lib\\site-packages\\ema_workbench\\analysis\\plotting_util.py:686\u001b[0m, in \u001b[0;36mprepare_pairs_data\u001b[1;34m(experiments, outcomes, outcomes_to_show, group_by, grouping_specifiers, point_in_time, filter_scalar)\u001b[0m\n\u001b[0;32m    681\u001b[0m     \u001b[38;5;28;01melif\u001b[39;00m \u001b[38;5;28mlen\u001b[39m(outcomes_to_show) \u001b[38;5;241m==\u001b[39m \u001b[38;5;241m1\u001b[39m:\n\u001b[0;32m    682\u001b[0m         \u001b[38;5;28;01mraise\u001b[39;00m \u001b[38;5;167;01mValueError\u001b[39;00m(\n\u001b[0;32m    683\u001b[0m             \u001b[38;5;124mf\u001b[39m\u001b[38;5;124m\"\u001b[39m\u001b[38;5;124mOnly \u001b[39m\u001b[38;5;132;01m{\u001b[39;00m\u001b[38;5;28mlen\u001b[39m(outcomes_to_show)\u001b[38;5;132;01m}\u001b[39;00m\u001b[38;5;124m outcome provided, at least two are needed for pair-wise plotting.\u001b[39m\u001b[38;5;124m\"\u001b[39m\n\u001b[0;32m    684\u001b[0m         )\n\u001b[1;32m--> 686\u001b[0m experiments, outcomes, outcomes_to_show, time, grouping_labels \u001b[38;5;241m=\u001b[39m \u001b[43mprepare_data\u001b[49m\u001b[43m(\u001b[49m\n\u001b[0;32m    687\u001b[0m \u001b[43m    \u001b[49m\u001b[43mexperiments\u001b[49m\u001b[43m,\u001b[49m\u001b[43m \u001b[49m\u001b[38;5;28;43;01mNone\u001b[39;49;00m\u001b[43m,\u001b[49m\u001b[43m \u001b[49m\u001b[43moutcomes\u001b[49m\u001b[43m,\u001b[49m\u001b[43m \u001b[49m\u001b[43moutcomes_to_show\u001b[49m\u001b[43m,\u001b[49m\u001b[43m \u001b[49m\u001b[43mgroup_by\u001b[49m\u001b[43m,\u001b[49m\u001b[43m \u001b[49m\u001b[43mgrouping_specifiers\u001b[49m\u001b[43m,\u001b[49m\u001b[43m \u001b[49m\u001b[43mfilter_scalar\u001b[49m\n\u001b[0;32m    688\u001b[0m \u001b[43m\u001b[49m\u001b[43m)\u001b[49m\n\u001b[0;32m    690\u001b[0m \u001b[38;5;28;01mdef\u001b[39;00m\u001b[38;5;250m \u001b[39m\u001b[38;5;21mfilter_outcomes\u001b[39m(outcomes, point_in_time):\n\u001b[0;32m    691\u001b[0m     new_outcomes \u001b[38;5;241m=\u001b[39m {}\n",
      "File \u001b[1;32mc:\\Users\\ArnauDuatisTarradell\\AppData\\Local\\Programs\\Python\\Python313\\Lib\\site-packages\\ema_workbench\\analysis\\plotting_util.py:769\u001b[0m, in \u001b[0;36mprepare_data\u001b[1;34m(experiments, experiments_to_show, outcomes, outcomes_to_show, group_by, grouping_specifiers, filter_scalar)\u001b[0m\n\u001b[0;32m    767\u001b[0m     \u001b[38;5;28;01mraise\u001b[39;00m EMAError(\u001b[38;5;124m\"\u001b[39m\u001b[38;5;124mNo grouping specifiers provided while trying to group on index\u001b[39m\u001b[38;5;124m\"\u001b[39m)\n\u001b[0;32m    768\u001b[0m \u001b[38;5;28;01melse\u001b[39;00m:\n\u001b[1;32m--> 769\u001b[0m     column_to_group_by \u001b[38;5;241m=\u001b[39m \u001b[43mexperiments\u001b[49m\u001b[43m[\u001b[49m\u001b[43mgroup_by\u001b[49m\u001b[43m]\u001b[49m\n\u001b[0;32m    770\u001b[0m     \u001b[38;5;28;01mif\u001b[39;00m column_to_group_by\u001b[38;5;241m.\u001b[39mdtype \u001b[38;5;129;01min\u001b[39;00m (\u001b[38;5;28mobject\u001b[39m, \u001b[38;5;124m\"\u001b[39m\u001b[38;5;124mcategory\u001b[39m\u001b[38;5;124m\"\u001b[39m):\n\u001b[0;32m    771\u001b[0m         grouping_specifiers \u001b[38;5;241m=\u001b[39m \u001b[38;5;28mset\u001b[39m(column_to_group_by)\n",
      "File \u001b[1;32mc:\\Users\\ArnauDuatisTarradell\\AppData\\Local\\Programs\\Python\\Python313\\Lib\\site-packages\\pandas\\core\\frame.py:4102\u001b[0m, in \u001b[0;36mDataFrame.__getitem__\u001b[1;34m(self, key)\u001b[0m\n\u001b[0;32m   4100\u001b[0m \u001b[38;5;28;01mif\u001b[39;00m \u001b[38;5;28mself\u001b[39m\u001b[38;5;241m.\u001b[39mcolumns\u001b[38;5;241m.\u001b[39mnlevels \u001b[38;5;241m>\u001b[39m \u001b[38;5;241m1\u001b[39m:\n\u001b[0;32m   4101\u001b[0m     \u001b[38;5;28;01mreturn\u001b[39;00m \u001b[38;5;28mself\u001b[39m\u001b[38;5;241m.\u001b[39m_getitem_multilevel(key)\n\u001b[1;32m-> 4102\u001b[0m indexer \u001b[38;5;241m=\u001b[39m \u001b[38;5;28;43mself\u001b[39;49m\u001b[38;5;241;43m.\u001b[39;49m\u001b[43mcolumns\u001b[49m\u001b[38;5;241;43m.\u001b[39;49m\u001b[43mget_loc\u001b[49m\u001b[43m(\u001b[49m\u001b[43mkey\u001b[49m\u001b[43m)\u001b[49m\n\u001b[0;32m   4103\u001b[0m \u001b[38;5;28;01mif\u001b[39;00m is_integer(indexer):\n\u001b[0;32m   4104\u001b[0m     indexer \u001b[38;5;241m=\u001b[39m [indexer]\n",
      "File \u001b[1;32mc:\\Users\\ArnauDuatisTarradell\\AppData\\Local\\Programs\\Python\\Python313\\Lib\\site-packages\\pandas\\core\\indexes\\base.py:3812\u001b[0m, in \u001b[0;36mIndex.get_loc\u001b[1;34m(self, key)\u001b[0m\n\u001b[0;32m   3807\u001b[0m     \u001b[38;5;28;01mif\u001b[39;00m \u001b[38;5;28misinstance\u001b[39m(casted_key, \u001b[38;5;28mslice\u001b[39m) \u001b[38;5;129;01mor\u001b[39;00m (\n\u001b[0;32m   3808\u001b[0m         \u001b[38;5;28misinstance\u001b[39m(casted_key, abc\u001b[38;5;241m.\u001b[39mIterable)\n\u001b[0;32m   3809\u001b[0m         \u001b[38;5;129;01mand\u001b[39;00m \u001b[38;5;28many\u001b[39m(\u001b[38;5;28misinstance\u001b[39m(x, \u001b[38;5;28mslice\u001b[39m) \u001b[38;5;28;01mfor\u001b[39;00m x \u001b[38;5;129;01min\u001b[39;00m casted_key)\n\u001b[0;32m   3810\u001b[0m     ):\n\u001b[0;32m   3811\u001b[0m         \u001b[38;5;28;01mraise\u001b[39;00m InvalidIndexError(key)\n\u001b[1;32m-> 3812\u001b[0m     \u001b[38;5;28;01mraise\u001b[39;00m \u001b[38;5;167;01mKeyError\u001b[39;00m(key) \u001b[38;5;28;01mfrom\u001b[39;00m\u001b[38;5;250m \u001b[39m\u001b[38;5;21;01merr\u001b[39;00m\n\u001b[0;32m   3813\u001b[0m \u001b[38;5;28;01mexcept\u001b[39;00m \u001b[38;5;167;01mTypeError\u001b[39;00m:\n\u001b[0;32m   3814\u001b[0m     \u001b[38;5;66;03m# If we have a listlike key, _check_indexing_error will raise\u001b[39;00m\n\u001b[0;32m   3815\u001b[0m     \u001b[38;5;66;03m#  InvalidIndexError. Otherwise we fall through and re-raise\u001b[39;00m\n\u001b[0;32m   3816\u001b[0m     \u001b[38;5;66;03m#  the TypeError.\u001b[39;00m\n\u001b[0;32m   3817\u001b[0m     \u001b[38;5;28mself\u001b[39m\u001b[38;5;241m.\u001b[39m_check_indexing_error(key)\n",
      "\u001b[1;31mKeyError\u001b[0m: 'Case'"
     ]
    }
   ],
   "source": [
    "fig, axes = pairs_plotting.pairs_scatter(x, o, group_by = \"Case\", legend = True)\n",
    "\n",
    "fig = plt.gcf()\n",
    "fig.set_size_inches(20, 20)\n",
    "ax = fig.get_axes()"
   ]
  },
  {
   "cell_type": "code",
   "execution_count": 59,
   "id": "4bb4e62b-fee1-4f62-ba46-3a8ce8a087a7",
   "metadata": {},
   "outputs": [
    {
     "ename": "InvalidParameterError",
     "evalue": "The 'max_features' parameter of ExtraTreesClassifier must be an int in the range [1, inf), a float in the range (0.0, 1.0], a str among {'log2', 'sqrt'} or None. Got 0 instead.",
     "output_type": "error",
     "traceback": [
      "\u001b[1;31m---------------------------------------------------------------------------\u001b[0m",
      "\u001b[1;31mInvalidParameterError\u001b[0m                     Traceback (most recent call last)",
      "Cell \u001b[1;32mIn[59], line 1\u001b[0m\n\u001b[1;32m----> 1\u001b[0m \u001b[43mutils\u001b[49m\u001b[38;5;241;43m.\u001b[39;49m\u001b[43mrank_features_IRR\u001b[49m\u001b[43m(\u001b[49m\u001b[43mx\u001b[49m\u001b[43m,\u001b[49m\u001b[43m \u001b[49m\u001b[43mo\u001b[49m\u001b[43m)\u001b[49m\n",
      "File \u001b[1;32mc:\\Projects\\Revenue Scenarios\\BESS_Revenue_Scenarios\\Deep_Unc_Analysis\\utils.py:298\u001b[0m, in \u001b[0;36mrank_features_IRR\u001b[1;34m(x, o)\u001b[0m\n\u001b[0;32m    295\u001b[0m # Get feature scores\n\u001b[0;32m    296\u001b[0m fs, alg = feature_scoring.get_ex_feature_scores(x, y, mode=RuleInductionType.CLASSIFICATION)\n\u001b[1;32m--> 298\u001b[0m # Rename columns\n\u001b[0;32m    299\u001b[0m fs.columns = ['Score']\n\u001b[0;32m    300\u001b[0m fs.index.name = 'Feature'\n",
      "File \u001b[1;32mc:\\Users\\ArnauDuatisTarradell\\AppData\\Local\\Programs\\Python\\Python313\\Lib\\site-packages\\ema_workbench\\analysis\\feature_scoring.py:333\u001b[0m, in \u001b[0;36mget_ex_feature_scores\u001b[1;34m(x, y, mode, nr_trees, max_features, max_depth, min_samples_split, min_samples_leaf, min_weight_fraction_leaf, max_leaf_nodes, bootstrap, oob_score, random_state)\u001b[0m\n\u001b[0;32m    318\u001b[0m     \u001b[38;5;28;01mraise\u001b[39;00m \u001b[38;5;167;01mValueError\u001b[39;00m(\u001b[38;5;124mf\u001b[39m\u001b[38;5;124m\"\u001b[39m\u001b[38;5;132;01m{\u001b[39;00mmode\u001b[38;5;132;01m}\u001b[39;00m\u001b[38;5;124m not valid for mode\u001b[39m\u001b[38;5;124m\"\u001b[39m)\n\u001b[0;32m    320\u001b[0m extra_trees \u001b[38;5;241m=\u001b[39m etc(\n\u001b[0;32m    321\u001b[0m     n_estimators\u001b[38;5;241m=\u001b[39mnr_trees,\n\u001b[0;32m    322\u001b[0m     criterion\u001b[38;5;241m=\u001b[39mcriterion,\n\u001b[1;32m   (...)\u001b[0m\n\u001b[0;32m    331\u001b[0m     random_state\u001b[38;5;241m=\u001b[39mrandom_state,\n\u001b[0;32m    332\u001b[0m )\n\u001b[1;32m--> 333\u001b[0m \u001b[43mextra_trees\u001b[49m\u001b[38;5;241;43m.\u001b[39;49m\u001b[43mfit\u001b[49m\u001b[43m(\u001b[49m\u001b[43mx\u001b[49m\u001b[43m,\u001b[49m\u001b[43m \u001b[49m\u001b[43my\u001b[49m\u001b[43m)\u001b[49m\n\u001b[0;32m    335\u001b[0m importances \u001b[38;5;241m=\u001b[39m extra_trees\u001b[38;5;241m.\u001b[39mfeature_importances_\n\u001b[0;32m    337\u001b[0m importances \u001b[38;5;241m=\u001b[39m \u001b[38;5;28mzip\u001b[39m(uncs, importances)\n",
      "File \u001b[1;32mc:\\Users\\ArnauDuatisTarradell\\AppData\\Local\\Programs\\Python\\Python313\\Lib\\site-packages\\sklearn\\base.py:1382\u001b[0m, in \u001b[0;36m_fit_context.<locals>.decorator.<locals>.wrapper\u001b[1;34m(estimator, *args, **kwargs)\u001b[0m\n\u001b[0;32m   1377\u001b[0m partial_fit_and_fitted \u001b[38;5;241m=\u001b[39m (\n\u001b[0;32m   1378\u001b[0m     fit_method\u001b[38;5;241m.\u001b[39m\u001b[38;5;18m__name__\u001b[39m \u001b[38;5;241m==\u001b[39m \u001b[38;5;124m\"\u001b[39m\u001b[38;5;124mpartial_fit\u001b[39m\u001b[38;5;124m\"\u001b[39m \u001b[38;5;129;01mand\u001b[39;00m _is_fitted(estimator)\n\u001b[0;32m   1379\u001b[0m )\n\u001b[0;32m   1381\u001b[0m \u001b[38;5;28;01mif\u001b[39;00m \u001b[38;5;129;01mnot\u001b[39;00m global_skip_validation \u001b[38;5;129;01mand\u001b[39;00m \u001b[38;5;129;01mnot\u001b[39;00m partial_fit_and_fitted:\n\u001b[1;32m-> 1382\u001b[0m     \u001b[43mestimator\u001b[49m\u001b[38;5;241;43m.\u001b[39;49m\u001b[43m_validate_params\u001b[49m\u001b[43m(\u001b[49m\u001b[43m)\u001b[49m\n\u001b[0;32m   1384\u001b[0m \u001b[38;5;28;01mwith\u001b[39;00m config_context(\n\u001b[0;32m   1385\u001b[0m     skip_parameter_validation\u001b[38;5;241m=\u001b[39m(\n\u001b[0;32m   1386\u001b[0m         prefer_skip_nested_validation \u001b[38;5;129;01mor\u001b[39;00m global_skip_validation\n\u001b[0;32m   1387\u001b[0m     )\n\u001b[0;32m   1388\u001b[0m ):\n\u001b[0;32m   1389\u001b[0m     \u001b[38;5;28;01mreturn\u001b[39;00m fit_method(estimator, \u001b[38;5;241m*\u001b[39margs, \u001b[38;5;241m*\u001b[39m\u001b[38;5;241m*\u001b[39mkwargs)\n",
      "File \u001b[1;32mc:\\Users\\ArnauDuatisTarradell\\AppData\\Local\\Programs\\Python\\Python313\\Lib\\site-packages\\sklearn\\base.py:436\u001b[0m, in \u001b[0;36mBaseEstimator._validate_params\u001b[1;34m(self)\u001b[0m\n\u001b[0;32m    428\u001b[0m \u001b[38;5;28;01mdef\u001b[39;00m\u001b[38;5;250m \u001b[39m\u001b[38;5;21m_validate_params\u001b[39m(\u001b[38;5;28mself\u001b[39m):\n\u001b[0;32m    429\u001b[0m \u001b[38;5;250m    \u001b[39m\u001b[38;5;124;03m\"\"\"Validate types and values of constructor parameters\u001b[39;00m\n\u001b[0;32m    430\u001b[0m \n\u001b[0;32m    431\u001b[0m \u001b[38;5;124;03m    The expected type and values must be defined in the `_parameter_constraints`\u001b[39;00m\n\u001b[1;32m   (...)\u001b[0m\n\u001b[0;32m    434\u001b[0m \u001b[38;5;124;03m    accepted constraints.\u001b[39;00m\n\u001b[0;32m    435\u001b[0m \u001b[38;5;124;03m    \"\"\"\u001b[39;00m\n\u001b[1;32m--> 436\u001b[0m     \u001b[43mvalidate_parameter_constraints\u001b[49m\u001b[43m(\u001b[49m\n\u001b[0;32m    437\u001b[0m \u001b[43m        \u001b[49m\u001b[38;5;28;43mself\u001b[39;49m\u001b[38;5;241;43m.\u001b[39;49m\u001b[43m_parameter_constraints\u001b[49m\u001b[43m,\u001b[49m\n\u001b[0;32m    438\u001b[0m \u001b[43m        \u001b[49m\u001b[38;5;28;43mself\u001b[39;49m\u001b[38;5;241;43m.\u001b[39;49m\u001b[43mget_params\u001b[49m\u001b[43m(\u001b[49m\u001b[43mdeep\u001b[49m\u001b[38;5;241;43m=\u001b[39;49m\u001b[38;5;28;43;01mFalse\u001b[39;49;00m\u001b[43m)\u001b[49m\u001b[43m,\u001b[49m\n\u001b[0;32m    439\u001b[0m \u001b[43m        \u001b[49m\u001b[43mcaller_name\u001b[49m\u001b[38;5;241;43m=\u001b[39;49m\u001b[38;5;28;43mself\u001b[39;49m\u001b[38;5;241;43m.\u001b[39;49m\u001b[38;5;18;43m__class__\u001b[39;49m\u001b[38;5;241;43m.\u001b[39;49m\u001b[38;5;18;43m__name__\u001b[39;49m\u001b[43m,\u001b[49m\n\u001b[0;32m    440\u001b[0m \u001b[43m    \u001b[49m\u001b[43m)\u001b[49m\n",
      "File \u001b[1;32mc:\\Users\\ArnauDuatisTarradell\\AppData\\Local\\Programs\\Python\\Python313\\Lib\\site-packages\\sklearn\\utils\\_param_validation.py:98\u001b[0m, in \u001b[0;36mvalidate_parameter_constraints\u001b[1;34m(parameter_constraints, params, caller_name)\u001b[0m\n\u001b[0;32m     92\u001b[0m \u001b[38;5;28;01melse\u001b[39;00m:\n\u001b[0;32m     93\u001b[0m     constraints_str \u001b[38;5;241m=\u001b[39m (\n\u001b[0;32m     94\u001b[0m         \u001b[38;5;124mf\u001b[39m\u001b[38;5;124m\"\u001b[39m\u001b[38;5;132;01m{\u001b[39;00m\u001b[38;5;124m'\u001b[39m\u001b[38;5;124m, \u001b[39m\u001b[38;5;124m'\u001b[39m\u001b[38;5;241m.\u001b[39mjoin([\u001b[38;5;28mstr\u001b[39m(c)\u001b[38;5;250m \u001b[39m\u001b[38;5;28;01mfor\u001b[39;00m\u001b[38;5;250m \u001b[39mc\u001b[38;5;250m \u001b[39m\u001b[38;5;129;01min\u001b[39;00m\u001b[38;5;250m \u001b[39mconstraints[:\u001b[38;5;241m-\u001b[39m\u001b[38;5;241m1\u001b[39m]])\u001b[38;5;132;01m}\u001b[39;00m\u001b[38;5;124m or\u001b[39m\u001b[38;5;124m\"\u001b[39m\n\u001b[0;32m     95\u001b[0m         \u001b[38;5;124mf\u001b[39m\u001b[38;5;124m\"\u001b[39m\u001b[38;5;124m \u001b[39m\u001b[38;5;132;01m{\u001b[39;00mconstraints[\u001b[38;5;241m-\u001b[39m\u001b[38;5;241m1\u001b[39m]\u001b[38;5;132;01m}\u001b[39;00m\u001b[38;5;124m\"\u001b[39m\n\u001b[0;32m     96\u001b[0m     )\n\u001b[1;32m---> 98\u001b[0m \u001b[38;5;28;01mraise\u001b[39;00m InvalidParameterError(\n\u001b[0;32m     99\u001b[0m     \u001b[38;5;124mf\u001b[39m\u001b[38;5;124m\"\u001b[39m\u001b[38;5;124mThe \u001b[39m\u001b[38;5;132;01m{\u001b[39;00mparam_name\u001b[38;5;132;01m!r}\u001b[39;00m\u001b[38;5;124m parameter of \u001b[39m\u001b[38;5;132;01m{\u001b[39;00mcaller_name\u001b[38;5;132;01m}\u001b[39;00m\u001b[38;5;124m must be\u001b[39m\u001b[38;5;124m\"\u001b[39m\n\u001b[0;32m    100\u001b[0m     \u001b[38;5;124mf\u001b[39m\u001b[38;5;124m\"\u001b[39m\u001b[38;5;124m \u001b[39m\u001b[38;5;132;01m{\u001b[39;00mconstraints_str\u001b[38;5;132;01m}\u001b[39;00m\u001b[38;5;124m. Got \u001b[39m\u001b[38;5;132;01m{\u001b[39;00mparam_val\u001b[38;5;132;01m!r}\u001b[39;00m\u001b[38;5;124m instead.\u001b[39m\u001b[38;5;124m\"\u001b[39m\n\u001b[0;32m    101\u001b[0m )\n",
      "\u001b[1;31mInvalidParameterError\u001b[0m: The 'max_features' parameter of ExtraTreesClassifier must be an int in the range [1, inf), a float in the range (0.0, 1.0], a str among {'log2', 'sqrt'} or None. Got 0 instead."
     ]
    }
   ],
   "source": [
    "utils.rank_features_IRR(x, o)"
   ]
  },
  {
   "cell_type": "markdown",
   "id": "9ae21760-17f3-4781-bc92-eadc3ebcdc1f",
   "metadata": {
    "jp-MarkdownHeadingCollapsed": true
   },
   "source": [
    "## Plotly Test"
   ]
  },
  {
   "cell_type": "code",
   "execution_count": 60,
   "id": "e8988c06-b0f8-4cba-8227-9064b4e681ae",
   "metadata": {},
   "outputs": [],
   "source": [
    "default_font_fam = None  # use the streamlit standard font -> None\n",
    "default_text_colour = \"#333\"  # dark grey\n",
    "title_colour = \"#000000\"  # black\n",
    " \n",
    "# define the Emmett Green 'huisstijl' template\n",
    "template_emmett_green = {\n",
    "    \"height\": 900,\n",
    "    \"width\": 1800,\n",
    "    \"title\": {\n",
    "        \"font\": {\"family\": default_font_fam, \"color\": title_colour, \"size\": 30},\n",
    "        \"xanchor\": \"center\",\n",
    "        \"yanchor\": \"middle\",\n",
    "        \"y\": 0.92,\n",
    "        \"x\": 0.45,\n",
    "    },\n",
    "    \"dragmode\": \"zoom\",\n",
    "    \"colorway\": [\n",
    "        \"#1c33ff\",\n",
    "        \"#2ade72\",\n",
    "        \"#ff6f1c\",\n",
    "        \"#19ffe8\",\n",
    "        \"#a3ff19\",\n",
    "        \"#ff1930\",\n",
    "        \"#ffb01c\",\n",
    "        \"#e819ff\",\n",
    "        \"#a5a7dd\",\n",
    "        \"#565a8c\",\n",
    "        \"#930700\",\n",
    "        \"#7519ff\",\n",
    "    ],\n",
    "    \"hovermode\": \"x unified\",\n",
    "    \"showlegend\": True,\n",
    "    \"legend\": {\n",
    "        \"x\": 1.02,\n",
    "        \"y\": 1.025,\n",
    "        \"yanchor\": \"top\",\n",
    "        \"bgcolor\": \"#f7f7f7\",\n",
    "        \"bordercolor\": \"#D0D0D0\",\n",
    "        \"borderwidth\": 0,\n",
    "        \"traceorder\": \"normal\",\n",
    "        \"font\": {\"family\": default_font_fam, \"color\": \"#333\", \"size\": 14},\n",
    "    },\n",
    "    \"plot_bgcolor\": \"#f7f7f7\",\n",
    "    \"paper_bgcolor\": \"#ffffff\",\n",
    "    \"margin\": {\"l\": 80, \"t\": 60, \"b\": 60, \"r\": 80},\n",
    "    \"yaxis\": {\n",
    "        \"showspikes\": True,\n",
    "        \"title\": {\"font\": {\"size\": 16, \"color\": default_text_colour}},\n",
    "        \"tickfont\": {\"family\": default_font_fam, \"color\": default_text_colour, \"size\": 14},\n",
    "        \"fixedrange\": False,\n",
    "    },\n",
    "    \"xaxis\": {\n",
    "        \"title\": {\"font\": {\"size\": 16, \"color\": default_text_colour}},\n",
    "        \"tickfont\": {\"family\": default_font_fam, \"color\": default_text_colour, \"size\": 14},\n",
    " \n",
    "    },\n",
    "}"
   ]
  },
  {
   "cell_type": "code",
   "execution_count": 61,
   "id": "58efcb21-9f0c-4b8c-8fbb-9d026f9c9657",
   "metadata": {},
   "outputs": [
    {
     "name": "stdout",
     "output_type": "stream",
     "text": [
      "Generating line graph with Plotly\n"
     ]
    },
    {
     "name": "stderr",
     "output_type": "stream",
     "text": [
      "  2%|▊                                     | 1/50 [21:20<17:25:32, 1280.26s/it]\n"
     ]
    },
    {
     "ename": "KeyError",
     "evalue": "'Case'",
     "output_type": "error",
     "traceback": [
      "\u001b[1;31m---------------------------------------------------------------------------\u001b[0m",
      "\u001b[1;31mKeyError\u001b[0m                                  Traceback (most recent call last)",
      "File \u001b[1;32mc:\\Users\\ArnauDuatisTarradell\\AppData\\Local\\Programs\\Python\\Python313\\Lib\\site-packages\\pandas\\core\\indexes\\base.py:3805\u001b[0m, in \u001b[0;36mIndex.get_loc\u001b[1;34m(self, key)\u001b[0m\n\u001b[0;32m   3804\u001b[0m \u001b[38;5;28;01mtry\u001b[39;00m:\n\u001b[1;32m-> 3805\u001b[0m     \u001b[38;5;28;01mreturn\u001b[39;00m \u001b[38;5;28;43mself\u001b[39;49m\u001b[38;5;241;43m.\u001b[39;49m\u001b[43m_engine\u001b[49m\u001b[38;5;241;43m.\u001b[39;49m\u001b[43mget_loc\u001b[49m\u001b[43m(\u001b[49m\u001b[43mcasted_key\u001b[49m\u001b[43m)\u001b[49m\n\u001b[0;32m   3806\u001b[0m \u001b[38;5;28;01mexcept\u001b[39;00m \u001b[38;5;167;01mKeyError\u001b[39;00m \u001b[38;5;28;01mas\u001b[39;00m err:\n",
      "File \u001b[1;32mindex.pyx:167\u001b[0m, in \u001b[0;36mpandas._libs.index.IndexEngine.get_loc\u001b[1;34m()\u001b[0m\n",
      "File \u001b[1;32mindex.pyx:196\u001b[0m, in \u001b[0;36mpandas._libs.index.IndexEngine.get_loc\u001b[1;34m()\u001b[0m\n",
      "File \u001b[1;32mpandas\\\\_libs\\\\hashtable_class_helper.pxi:7081\u001b[0m, in \u001b[0;36mpandas._libs.hashtable.PyObjectHashTable.get_item\u001b[1;34m()\u001b[0m\n",
      "File \u001b[1;32mpandas\\\\_libs\\\\hashtable_class_helper.pxi:7089\u001b[0m, in \u001b[0;36mpandas._libs.hashtable.PyObjectHashTable.get_item\u001b[1;34m()\u001b[0m\n",
      "\u001b[1;31mKeyError\u001b[0m: 'Case'",
      "\nThe above exception was the direct cause of the following exception:\n",
      "\u001b[1;31mKeyError\u001b[0m                                  Traceback (most recent call last)",
      "Cell \u001b[1;32mIn[61], line 99\u001b[0m\n\u001b[0;32m     96\u001b[0m     \u001b[38;5;28;01mreturn\u001b[39;00m fig\n\u001b[0;32m     98\u001b[0m \u001b[38;5;66;03m# Ensure outcomes_to_show is passed as a list\u001b[39;00m\n\u001b[1;32m---> 99\u001b[0m fig \u001b[38;5;241m=\u001b[39m \u001b[43mplotly_lines\u001b[49m\u001b[43m(\u001b[49m\u001b[43mx\u001b[49m\u001b[43m,\u001b[49m\u001b[43m \u001b[49m\u001b[43mo\u001b[49m\u001b[43m,\u001b[49m\u001b[43m \u001b[49m\u001b[43moutcomes_to_show\u001b[49m\u001b[38;5;241;43m=\u001b[39;49m\u001b[43m[\u001b[49m\u001b[38;5;124;43m'\u001b[39;49m\u001b[38;5;124;43mRolling_Equity_IRR\u001b[39;49m\u001b[38;5;124;43m'\u001b[39;49m\u001b[43m]\u001b[49m\u001b[43m,\u001b[49m\u001b[43m \u001b[49m\u001b[43mgroup_by\u001b[49m\u001b[38;5;241;43m=\u001b[39;49m\u001b[38;5;124;43m'\u001b[39;49m\u001b[38;5;124;43mCase\u001b[39;49m\u001b[38;5;124;43m'\u001b[39;49m\u001b[43m)\u001b[49m\n\u001b[0;32m    100\u001b[0m fig\u001b[38;5;241m.\u001b[39mshow()\n",
      "Cell \u001b[1;32mIn[61], line 57\u001b[0m, in \u001b[0;36mplotly_lines\u001b[1;34m(experiments, outcomes, outcomes_to_show, group_by, grouping_specifiers, density, legend, titles, ylabels, experiments_to_show, show_envelope, log)\u001b[0m\n\u001b[0;32m     43\u001b[0m colors \u001b[38;5;241m=\u001b[39m [        \u001b[38;5;124m\"\u001b[39m\u001b[38;5;124m#1c33ff\u001b[39m\u001b[38;5;124m\"\u001b[39m,\n\u001b[0;32m     44\u001b[0m     \u001b[38;5;124m\"\u001b[39m\u001b[38;5;124m#2ade72\u001b[39m\u001b[38;5;124m\"\u001b[39m,\n\u001b[0;32m     45\u001b[0m     \u001b[38;5;124m\"\u001b[39m\u001b[38;5;124m#ff6f1c\u001b[39m\u001b[38;5;124m\"\u001b[39m,\n\u001b[1;32m   (...)\u001b[0m\n\u001b[0;32m     53\u001b[0m     \u001b[38;5;124m\"\u001b[39m\u001b[38;5;124m#930700\u001b[39m\u001b[38;5;124m\"\u001b[39m,\n\u001b[0;32m     54\u001b[0m     \u001b[38;5;124m\"\u001b[39m\u001b[38;5;124m#7519ff\u001b[39m\u001b[38;5;124m\"\u001b[39m,]\n\u001b[0;32m     56\u001b[0m \u001b[38;5;66;03m# Get unique cases\u001b[39;00m\n\u001b[1;32m---> 57\u001b[0m unique_cases \u001b[38;5;241m=\u001b[39m \u001b[43mexperiments\u001b[49m\u001b[43m[\u001b[49m\u001b[43mgroup_by\u001b[49m\u001b[43m]\u001b[49m\u001b[38;5;241m.\u001b[39munique()\n\u001b[0;32m     58\u001b[0m case_colors \u001b[38;5;241m=\u001b[39m {case: colors[i \u001b[38;5;241m%\u001b[39m \u001b[38;5;28mlen\u001b[39m(colors)] \u001b[38;5;28;01mfor\u001b[39;00m i, case \u001b[38;5;129;01min\u001b[39;00m \u001b[38;5;28menumerate\u001b[39m(unique_cases)}\n\u001b[0;32m     60\u001b[0m \u001b[38;5;66;03m# Do the plotting\u001b[39;00m\n",
      "File \u001b[1;32mc:\\Users\\ArnauDuatisTarradell\\AppData\\Local\\Programs\\Python\\Python313\\Lib\\site-packages\\pandas\\core\\frame.py:4102\u001b[0m, in \u001b[0;36mDataFrame.__getitem__\u001b[1;34m(self, key)\u001b[0m\n\u001b[0;32m   4100\u001b[0m \u001b[38;5;28;01mif\u001b[39;00m \u001b[38;5;28mself\u001b[39m\u001b[38;5;241m.\u001b[39mcolumns\u001b[38;5;241m.\u001b[39mnlevels \u001b[38;5;241m>\u001b[39m \u001b[38;5;241m1\u001b[39m:\n\u001b[0;32m   4101\u001b[0m     \u001b[38;5;28;01mreturn\u001b[39;00m \u001b[38;5;28mself\u001b[39m\u001b[38;5;241m.\u001b[39m_getitem_multilevel(key)\n\u001b[1;32m-> 4102\u001b[0m indexer \u001b[38;5;241m=\u001b[39m \u001b[38;5;28;43mself\u001b[39;49m\u001b[38;5;241;43m.\u001b[39;49m\u001b[43mcolumns\u001b[49m\u001b[38;5;241;43m.\u001b[39;49m\u001b[43mget_loc\u001b[49m\u001b[43m(\u001b[49m\u001b[43mkey\u001b[49m\u001b[43m)\u001b[49m\n\u001b[0;32m   4103\u001b[0m \u001b[38;5;28;01mif\u001b[39;00m is_integer(indexer):\n\u001b[0;32m   4104\u001b[0m     indexer \u001b[38;5;241m=\u001b[39m [indexer]\n",
      "File \u001b[1;32mc:\\Users\\ArnauDuatisTarradell\\AppData\\Local\\Programs\\Python\\Python313\\Lib\\site-packages\\pandas\\core\\indexes\\base.py:3812\u001b[0m, in \u001b[0;36mIndex.get_loc\u001b[1;34m(self, key)\u001b[0m\n\u001b[0;32m   3807\u001b[0m     \u001b[38;5;28;01mif\u001b[39;00m \u001b[38;5;28misinstance\u001b[39m(casted_key, \u001b[38;5;28mslice\u001b[39m) \u001b[38;5;129;01mor\u001b[39;00m (\n\u001b[0;32m   3808\u001b[0m         \u001b[38;5;28misinstance\u001b[39m(casted_key, abc\u001b[38;5;241m.\u001b[39mIterable)\n\u001b[0;32m   3809\u001b[0m         \u001b[38;5;129;01mand\u001b[39;00m \u001b[38;5;28many\u001b[39m(\u001b[38;5;28misinstance\u001b[39m(x, \u001b[38;5;28mslice\u001b[39m) \u001b[38;5;28;01mfor\u001b[39;00m x \u001b[38;5;129;01min\u001b[39;00m casted_key)\n\u001b[0;32m   3810\u001b[0m     ):\n\u001b[0;32m   3811\u001b[0m         \u001b[38;5;28;01mraise\u001b[39;00m InvalidIndexError(key)\n\u001b[1;32m-> 3812\u001b[0m     \u001b[38;5;28;01mraise\u001b[39;00m \u001b[38;5;167;01mKeyError\u001b[39;00m(key) \u001b[38;5;28;01mfrom\u001b[39;00m\u001b[38;5;250m \u001b[39m\u001b[38;5;21;01merr\u001b[39;00m\n\u001b[0;32m   3813\u001b[0m \u001b[38;5;28;01mexcept\u001b[39;00m \u001b[38;5;167;01mTypeError\u001b[39;00m:\n\u001b[0;32m   3814\u001b[0m     \u001b[38;5;66;03m# If we have a listlike key, _check_indexing_error will raise\u001b[39;00m\n\u001b[0;32m   3815\u001b[0m     \u001b[38;5;66;03m#  InvalidIndexError. Otherwise we fall through and re-raise\u001b[39;00m\n\u001b[0;32m   3816\u001b[0m     \u001b[38;5;66;03m#  the TypeError.\u001b[39;00m\n\u001b[0;32m   3817\u001b[0m     \u001b[38;5;28mself\u001b[39m\u001b[38;5;241m.\u001b[39m_check_indexing_error(key)\n",
      "\u001b[1;31mKeyError\u001b[0m: 'Case'"
     ]
    }
   ],
   "source": [
    "import plotly.graph_objects as go\n",
    "from plotly.subplots import make_subplots\n",
    "import pandas as pd\n",
    "import numpy as np\n",
    "\n",
    "def prepare_data(experiments, experiments_to_show, outcomes, outcomes_to_show, group_by, grouping_specifiers):\n",
    "    time = outcomes['TIME'][0]  # Assuming the first row is representative\n",
    "    if not outcomes_to_show:\n",
    "        outcomes_to_show = list(outcomes.keys())\n",
    "    return experiments, outcomes, outcomes_to_show, time, grouping_specifiers\n",
    "\n",
    "def plotly_lines(\n",
    "    experiments,\n",
    "    outcomes,\n",
    "    outcomes_to_show=[],\n",
    "    group_by=None,\n",
    "    grouping_specifiers=None,\n",
    "    density=\"\",\n",
    "    legend=True,\n",
    "    titles={},\n",
    "    ylabels={},\n",
    "    experiments_to_show=None,\n",
    "    show_envelope=False,\n",
    "    log=False,\n",
    "):\n",
    "    print(\"Generating line graph with Plotly\")\n",
    "\n",
    "    # Prepare the data\n",
    "    data = prepare_data(\n",
    "        experiments, experiments_to_show, outcomes, outcomes_to_show, group_by, grouping_specifiers\n",
    "    )\n",
    "    experiments, outcomes, outcomes_to_show, time, grouping_labels = data\n",
    "\n",
    "    # Ensure time is properly formatted (assuming time is a numpy array)\n",
    "    time = pd.Series(time).astype(float).to_list()\n",
    "\n",
    "    # Create subplots\n",
    "    cols = 2 if density else 1\n",
    "    rows = len(outcomes_to_show)\n",
    "    fig = make_subplots(rows=rows, cols=cols, shared_xaxes=True, subplot_titles=outcomes_to_show)\n",
    "\n",
    "    # Define a color palette\n",
    "    colors = [        \"#1c33ff\",\n",
    "        \"#2ade72\",\n",
    "        \"#ff6f1c\",\n",
    "        \"#19ffe8\",\n",
    "        \"#a3ff19\",\n",
    "        \"#ff1930\",\n",
    "        \"#ffb01c\",\n",
    "        \"#e819ff\",\n",
    "        \"#a5a7dd\",\n",
    "        \"#565a8c\",\n",
    "        \"#930700\",\n",
    "        \"#7519ff\",]\n",
    "    \n",
    "    # Get unique cases\n",
    "    unique_cases = experiments[group_by].unique()\n",
    "    case_colors = {case: colors[i % len(colors)] for i, case in enumerate(unique_cases)}\n",
    "\n",
    "    # Do the plotting\n",
    "    for i, outcome_to_plot in enumerate(outcomes_to_show):\n",
    "        row = i + 1\n",
    "        # Line plot for each scenario\n",
    "        for case in unique_cases:\n",
    "            case_data = experiments[experiments[group_by] == case]\n",
    "            for j in case_data.index:\n",
    "                showlegend = j == case_data.index[0]  # Show legend only for the first line of each case\n",
    "                fig.add_trace(\n",
    "                    go.Scatter(x=time, y=outcomes[outcome_to_plot][j], mode='lines', name=case if showlegend else None, line=dict(color=case_colors[case])),\n",
    "                    row=row, col=1\n",
    "                )\n",
    "\n",
    "        if density:\n",
    "            # Add density plots here (e.g., histograms, KDEs, etc.)\n",
    "            fig.add_trace(\n",
    "                go.Histogram(x=outcomes[outcome_to_plot], name=outcome_to_plot + ' Density'),\n",
    "                row=row, col=2\n",
    "            )\n",
    "\n",
    "        # Add titles and labels\n",
    "        if outcome_to_plot in titles:\n",
    "            fig.update_yaxes(title_text=titles[outcome_to_plot], row=row, col=1)\n",
    "        if outcome_to_plot in ylabels:\n",
    "            fig.update_yaxes(title_text=ylabels[outcome_to_plot], row=row, col=1)\n",
    "\n",
    "    # Update layout for the entire figure\n",
    "    fig.update_layout(\n",
    "        #title=\"Line Plots with Plotly\",\n",
    "        legend_title=\"Cases\",\n",
    "        xaxis_title=\"Time\",\n",
    "        yaxis_title=\"Value\",\n",
    "    )\n",
    "\n",
    "    fig.update_layout(**template_emmett_green)\n",
    "\n",
    "    return fig\n",
    "\n",
    "# Ensure outcomes_to_show is passed as a list\n",
    "fig = plotly_lines(x, o, outcomes_to_show=['Rolling_Equity_IRR'], group_by='Case')\n",
    "fig.show()\n"
   ]
  },
  {
   "cell_type": "code",
   "execution_count": 62,
   "id": "7966258a-f52f-46c4-bcdf-92fd626a654b",
   "metadata": {},
   "outputs": [
    {
     "name": "stdout",
     "output_type": "stream",
     "text": [
      "Generating line graph with Plotly\n"
     ]
    },
    {
     "ename": "KeyError",
     "evalue": "'Case'",
     "output_type": "error",
     "traceback": [
      "\u001b[1;31m---------------------------------------------------------------------------\u001b[0m",
      "\u001b[1;31mKeyError\u001b[0m                                  Traceback (most recent call last)",
      "File \u001b[1;32mc:\\Users\\ArnauDuatisTarradell\\AppData\\Local\\Programs\\Python\\Python313\\Lib\\site-packages\\pandas\\core\\indexes\\base.py:3805\u001b[0m, in \u001b[0;36mIndex.get_loc\u001b[1;34m(self, key)\u001b[0m\n\u001b[0;32m   3804\u001b[0m \u001b[38;5;28;01mtry\u001b[39;00m:\n\u001b[1;32m-> 3805\u001b[0m     \u001b[38;5;28;01mreturn\u001b[39;00m \u001b[38;5;28;43mself\u001b[39;49m\u001b[38;5;241;43m.\u001b[39;49m\u001b[43m_engine\u001b[49m\u001b[38;5;241;43m.\u001b[39;49m\u001b[43mget_loc\u001b[49m\u001b[43m(\u001b[49m\u001b[43mcasted_key\u001b[49m\u001b[43m)\u001b[49m\n\u001b[0;32m   3806\u001b[0m \u001b[38;5;28;01mexcept\u001b[39;00m \u001b[38;5;167;01mKeyError\u001b[39;00m \u001b[38;5;28;01mas\u001b[39;00m err:\n",
      "File \u001b[1;32mindex.pyx:167\u001b[0m, in \u001b[0;36mpandas._libs.index.IndexEngine.get_loc\u001b[1;34m()\u001b[0m\n",
      "File \u001b[1;32mindex.pyx:196\u001b[0m, in \u001b[0;36mpandas._libs.index.IndexEngine.get_loc\u001b[1;34m()\u001b[0m\n",
      "File \u001b[1;32mpandas\\\\_libs\\\\hashtable_class_helper.pxi:7081\u001b[0m, in \u001b[0;36mpandas._libs.hashtable.PyObjectHashTable.get_item\u001b[1;34m()\u001b[0m\n",
      "File \u001b[1;32mpandas\\\\_libs\\\\hashtable_class_helper.pxi:7089\u001b[0m, in \u001b[0;36mpandas._libs.hashtable.PyObjectHashTable.get_item\u001b[1;34m()\u001b[0m\n",
      "\u001b[1;31mKeyError\u001b[0m: 'Case'",
      "\nThe above exception was the direct cause of the following exception:\n",
      "\u001b[1;31mKeyError\u001b[0m                                  Traceback (most recent call last)",
      "Cell \u001b[1;32mIn[62], line 107\u001b[0m\n\u001b[0;32m    104\u001b[0m     \u001b[38;5;28;01mreturn\u001b[39;00m fig\n\u001b[0;32m    106\u001b[0m \u001b[38;5;66;03m# Ensure outcomes_to_show is passed as a list\u001b[39;00m\n\u001b[1;32m--> 107\u001b[0m fig \u001b[38;5;241m=\u001b[39m \u001b[43mplotly_lines\u001b[49m\u001b[43m(\u001b[49m\u001b[43mx\u001b[49m\u001b[43m,\u001b[49m\u001b[43m \u001b[49m\u001b[43mo\u001b[49m\u001b[43m,\u001b[49m\u001b[43m \u001b[49m\u001b[43moutcomes_to_show\u001b[49m\u001b[38;5;241;43m=\u001b[39;49m\u001b[43m[\u001b[49m\u001b[38;5;124;43m'\u001b[39;49m\u001b[38;5;124;43mRolling_Equity_IRR\u001b[39;49m\u001b[38;5;124;43m'\u001b[39;49m\u001b[43m]\u001b[49m\u001b[43m,\u001b[49m\u001b[43m \u001b[49m\u001b[43mgroup_by\u001b[49m\u001b[38;5;241;43m=\u001b[39;49m\u001b[38;5;124;43m'\u001b[39;49m\u001b[38;5;124;43mCase\u001b[39;49m\u001b[38;5;124;43m'\u001b[39;49m\u001b[43m,\u001b[49m\u001b[43m \u001b[49m\u001b[43mdensity\u001b[49m\u001b[38;5;241;43m=\u001b[39;49m\u001b[38;5;124;43m\"\u001b[39;49m\u001b[38;5;124;43mkde\u001b[39;49m\u001b[38;5;124;43m\"\u001b[39;49m\u001b[43m)\u001b[49m\n\u001b[0;32m    108\u001b[0m fig\u001b[38;5;241m.\u001b[39mshow()\n",
      "Cell \u001b[1;32mIn[62], line 58\u001b[0m, in \u001b[0;36mplotly_lines\u001b[1;34m(experiments, outcomes, outcomes_to_show, group_by, grouping_specifiers, density, legend, titles, ylabels, experiments_to_show, show_envelope, log)\u001b[0m\n\u001b[0;32m     44\u001b[0m colors \u001b[38;5;241m=\u001b[39m [        \u001b[38;5;124m\"\u001b[39m\u001b[38;5;124m#1c33ff\u001b[39m\u001b[38;5;124m\"\u001b[39m,\n\u001b[0;32m     45\u001b[0m     \u001b[38;5;124m\"\u001b[39m\u001b[38;5;124m#2ade72\u001b[39m\u001b[38;5;124m\"\u001b[39m,\n\u001b[0;32m     46\u001b[0m     \u001b[38;5;124m\"\u001b[39m\u001b[38;5;124m#ff6f1c\u001b[39m\u001b[38;5;124m\"\u001b[39m,\n\u001b[1;32m   (...)\u001b[0m\n\u001b[0;32m     54\u001b[0m     \u001b[38;5;124m\"\u001b[39m\u001b[38;5;124m#930700\u001b[39m\u001b[38;5;124m\"\u001b[39m,\n\u001b[0;32m     55\u001b[0m     \u001b[38;5;124m\"\u001b[39m\u001b[38;5;124m#7519ff\u001b[39m\u001b[38;5;124m\"\u001b[39m,]\n\u001b[0;32m     57\u001b[0m \u001b[38;5;66;03m# Get unique cases\u001b[39;00m\n\u001b[1;32m---> 58\u001b[0m unique_cases \u001b[38;5;241m=\u001b[39m \u001b[43mexperiments\u001b[49m\u001b[43m[\u001b[49m\u001b[43mgroup_by\u001b[49m\u001b[43m]\u001b[49m\u001b[38;5;241m.\u001b[39munique()\n\u001b[0;32m     59\u001b[0m case_colors \u001b[38;5;241m=\u001b[39m {case: colors[i \u001b[38;5;241m%\u001b[39m \u001b[38;5;28mlen\u001b[39m(colors)] \u001b[38;5;28;01mfor\u001b[39;00m i, case \u001b[38;5;129;01min\u001b[39;00m \u001b[38;5;28menumerate\u001b[39m(unique_cases)}\n\u001b[0;32m     61\u001b[0m \u001b[38;5;66;03m# Track which cases have been added to the legend\u001b[39;00m\n",
      "File \u001b[1;32mc:\\Users\\ArnauDuatisTarradell\\AppData\\Local\\Programs\\Python\\Python313\\Lib\\site-packages\\pandas\\core\\frame.py:4102\u001b[0m, in \u001b[0;36mDataFrame.__getitem__\u001b[1;34m(self, key)\u001b[0m\n\u001b[0;32m   4100\u001b[0m \u001b[38;5;28;01mif\u001b[39;00m \u001b[38;5;28mself\u001b[39m\u001b[38;5;241m.\u001b[39mcolumns\u001b[38;5;241m.\u001b[39mnlevels \u001b[38;5;241m>\u001b[39m \u001b[38;5;241m1\u001b[39m:\n\u001b[0;32m   4101\u001b[0m     \u001b[38;5;28;01mreturn\u001b[39;00m \u001b[38;5;28mself\u001b[39m\u001b[38;5;241m.\u001b[39m_getitem_multilevel(key)\n\u001b[1;32m-> 4102\u001b[0m indexer \u001b[38;5;241m=\u001b[39m \u001b[38;5;28;43mself\u001b[39;49m\u001b[38;5;241;43m.\u001b[39;49m\u001b[43mcolumns\u001b[49m\u001b[38;5;241;43m.\u001b[39;49m\u001b[43mget_loc\u001b[49m\u001b[43m(\u001b[49m\u001b[43mkey\u001b[49m\u001b[43m)\u001b[49m\n\u001b[0;32m   4103\u001b[0m \u001b[38;5;28;01mif\u001b[39;00m is_integer(indexer):\n\u001b[0;32m   4104\u001b[0m     indexer \u001b[38;5;241m=\u001b[39m [indexer]\n",
      "File \u001b[1;32mc:\\Users\\ArnauDuatisTarradell\\AppData\\Local\\Programs\\Python\\Python313\\Lib\\site-packages\\pandas\\core\\indexes\\base.py:3812\u001b[0m, in \u001b[0;36mIndex.get_loc\u001b[1;34m(self, key)\u001b[0m\n\u001b[0;32m   3807\u001b[0m     \u001b[38;5;28;01mif\u001b[39;00m \u001b[38;5;28misinstance\u001b[39m(casted_key, \u001b[38;5;28mslice\u001b[39m) \u001b[38;5;129;01mor\u001b[39;00m (\n\u001b[0;32m   3808\u001b[0m         \u001b[38;5;28misinstance\u001b[39m(casted_key, abc\u001b[38;5;241m.\u001b[39mIterable)\n\u001b[0;32m   3809\u001b[0m         \u001b[38;5;129;01mand\u001b[39;00m \u001b[38;5;28many\u001b[39m(\u001b[38;5;28misinstance\u001b[39m(x, \u001b[38;5;28mslice\u001b[39m) \u001b[38;5;28;01mfor\u001b[39;00m x \u001b[38;5;129;01min\u001b[39;00m casted_key)\n\u001b[0;32m   3810\u001b[0m     ):\n\u001b[0;32m   3811\u001b[0m         \u001b[38;5;28;01mraise\u001b[39;00m InvalidIndexError(key)\n\u001b[1;32m-> 3812\u001b[0m     \u001b[38;5;28;01mraise\u001b[39;00m \u001b[38;5;167;01mKeyError\u001b[39;00m(key) \u001b[38;5;28;01mfrom\u001b[39;00m\u001b[38;5;250m \u001b[39m\u001b[38;5;21;01merr\u001b[39;00m\n\u001b[0;32m   3813\u001b[0m \u001b[38;5;28;01mexcept\u001b[39;00m \u001b[38;5;167;01mTypeError\u001b[39;00m:\n\u001b[0;32m   3814\u001b[0m     \u001b[38;5;66;03m# If we have a listlike key, _check_indexing_error will raise\u001b[39;00m\n\u001b[0;32m   3815\u001b[0m     \u001b[38;5;66;03m#  InvalidIndexError. Otherwise we fall through and re-raise\u001b[39;00m\n\u001b[0;32m   3816\u001b[0m     \u001b[38;5;66;03m#  the TypeError.\u001b[39;00m\n\u001b[0;32m   3817\u001b[0m     \u001b[38;5;28mself\u001b[39m\u001b[38;5;241m.\u001b[39m_check_indexing_error(key)\n",
      "\u001b[1;31mKeyError\u001b[0m: 'Case'"
     ]
    }
   ],
   "source": [
    "import plotly.graph_objects as go\n",
    "from plotly.subplots import make_subplots\n",
    "import pandas as pd\n",
    "import numpy as np\n",
    "from scipy.stats import gaussian_kde\n",
    "\n",
    "def prepare_data(experiments, experiments_to_show, outcomes, outcomes_to_show, group_by, grouping_specifiers):\n",
    "    time = outcomes['TIME'][0]  # Assuming the first row is representative\n",
    "    if not outcomes_to_show:\n",
    "        outcomes_to_show = list(outcomes.keys())\n",
    "    return experiments, outcomes, outcomes_to_show, time, grouping_specifiers\n",
    "\n",
    "def plotly_lines(\n",
    "    experiments,\n",
    "    outcomes,\n",
    "    outcomes_to_show=[],\n",
    "    group_by=None,\n",
    "    grouping_specifiers=None,\n",
    "    density=\"kde\",\n",
    "    legend=True,\n",
    "    titles={},\n",
    "    ylabels={},\n",
    "    experiments_to_show=None,\n",
    "    show_envelope=False,\n",
    "    log=False,\n",
    "):\n",
    "    print(\"Generating line graph with Plotly\")\n",
    "\n",
    "    # Prepare the data\n",
    "    data = prepare_data(\n",
    "        experiments, experiments_to_show, outcomes, outcomes_to_show, group_by, grouping_specifiers\n",
    "    )\n",
    "    experiments, outcomes, outcomes_to_show, time, grouping_labels = data\n",
    "\n",
    "    # Ensure time is properly formatted (assuming time is a numpy array)\n",
    "    time = pd.Series(time).astype(float).to_list()\n",
    "\n",
    "    # Create subplots\n",
    "    cols = 2 if density else 1\n",
    "    rows = len(outcomes_to_show)\n",
    "    fig = make_subplots(rows=rows, cols=cols, shared_xaxes=True, subplot_titles=outcomes_to_show)\n",
    "\n",
    "    # Define a color palette\n",
    "    colors = [        \"#1c33ff\",\n",
    "        \"#2ade72\",\n",
    "        \"#ff6f1c\",\n",
    "        \"#19ffe8\",\n",
    "        \"#a3ff19\",\n",
    "        \"#ff1930\",\n",
    "        \"#ffb01c\",\n",
    "        \"#e819ff\",\n",
    "        \"#a5a7dd\",\n",
    "        \"#565a8c\",\n",
    "        \"#930700\",\n",
    "        \"#7519ff\",]\n",
    "    \n",
    "    # Get unique cases\n",
    "    unique_cases = experiments[group_by].unique()\n",
    "    case_colors = {case: colors[i % len(colors)] for i, case in enumerate(unique_cases)}\n",
    "\n",
    "    # Track which cases have been added to the legend\n",
    "    case_in_legend = {case: False for case in unique_cases}\n",
    "\n",
    "    # Do the plotting\n",
    "    for i, outcome_to_plot in enumerate(outcomes_to_show):\n",
    "        row = i + 1\n",
    "        # Line plot for each scenario\n",
    "        for case in unique_cases:\n",
    "            case_data = experiments[experiments[group_by] == case]\n",
    "            for j in case_data.index:\n",
    "                showlegend = not case_in_legend[case]\n",
    "                fig.add_trace(\n",
    "                    go.Scatter(x=time, y=outcomes[outcome_to_plot][j], mode='lines', name=case if showlegend else None, line=dict(color=case_colors[case])),\n",
    "                    row=row, col=1\n",
    "                )\n",
    "                if showlegend:\n",
    "                    case_in_legend[case] = True\n",
    "\n",
    "        if density:\n",
    "            # Add density plots here (e.g., histograms, KDEs, etc.)\n",
    "            if density == \"histogram\":\n",
    "                fig.add_trace(\n",
    "                    go.Histogram(x=outcomes[outcome_to_plot].flatten(), name=outcome_to_plot + ' Histogram', marker_color='blue'),\n",
    "                    row=row, col=2\n",
    "                )\n",
    "            elif density == \"kde\":\n",
    "                kde = gaussian_kde(outcomes[outcome_to_plot].flatten())\n",
    "                x_vals = np.linspace(outcomes[outcome_to_plot].min(), outcomes[outcome_to_plot].max(), 100)\n",
    "                y_vals = kde(x_vals)\n",
    "                fig.add_trace(\n",
    "                    go.Scatter(x=x_vals, y=y_vals, mode='lines', name=outcome_to_plot + ' KDE', line=dict(color='blue')),\n",
    "                    row=row, col=2\n",
    "                )\n",
    "\n",
    "        # Add titles and labels\n",
    "        if outcome_to_plot in titles:\n",
    "            fig.update_yaxes(title_text=titles[outcome_to_plot], row=row, col=1)\n",
    "        if outcome_to_plot in ylabels:\n",
    "            fig.update_yaxes(title_text=ylabels[outcome_to_plot], row=row, col=1)\n",
    "\n",
    "    # Update layout for the entire figure\n",
    "    fig.update_layout(**template_emmett_green)\n",
    "\n",
    "    return fig\n",
    "\n",
    "# Ensure outcomes_to_show is passed as a list\n",
    "fig = plotly_lines(x, o, outcomes_to_show=['Rolling_Equity_IRR'], group_by='Case', density=\"kde\")\n",
    "fig.show()"
   ]
  }
 ],
 "metadata": {
  "kernelspec": {
   "display_name": "Python 3",
   "language": "python",
   "name": "python3"
  },
  "language_info": {
   "codemirror_mode": {
    "name": "ipython",
    "version": 3
   },
   "file_extension": ".py",
   "mimetype": "text/x-python",
   "name": "python",
   "nbconvert_exporter": "python",
   "pygments_lexer": "ipython3",
   "version": "3.13.2"
  }
 },
 "nbformat": 4,
 "nbformat_minor": 5
}
